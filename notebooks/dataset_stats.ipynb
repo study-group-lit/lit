{
 "cells": [
  {
   "cell_type": "code",
   "execution_count": 51,
   "metadata": {},
   "outputs": [],
   "source": [
    "import json\n",
    "\n",
    "from collections import Counter\n",
    "from IPython.display import HTML, display\n",
    "\n",
    "from datasets import load_dataset"
   ]
  },
  {
   "cell_type": "code",
   "execution_count": 68,
   "metadata": {},
   "outputs": [
    {
     "name": "stderr",
     "output_type": "stream",
     "text": [
      "Found cached dataset multi_nli (/home/imger/.cache/huggingface/datasets/multi_nli/default/0.0.0/591f72eb6263d1ab527561777936b199b714cda156d35716881158a2bd144f39)\n",
      "100%|██████████| 3/3 [00:00<00:00, 347.02it/s]\n",
      "Found cached dataset esnli (/home/imger/.cache/huggingface/datasets/esnli/plain_text/0.0.2/262495ebbd9e71ec9b0c37a93e378f1b353dc28bb904305e011506792a02996b)\n",
      "100%|██████████| 3/3 [00:00<00:00, 256.44it/s]\n",
      "Found cached dataset sick (/home/imger/.cache/huggingface/datasets/sick/default/0.0.0/c6b3b0b44eb84b134851396d6d464e5cb8f026960519d640e087fe33472626db)\n",
      "100%|██████████| 3/3 [00:00<00:00, 841.67it/s]\n"
     ]
    }
   ],
   "source": [
    "multinli = load_dataset(\"multi_nli\")\n",
    "esnli = load_dataset(\"../datasets/esnli.py\")\n",
    "sick = load_dataset(\"sick\")"
   ]
  },
  {
   "cell_type": "code",
   "execution_count": 56,
   "metadata": {},
   "outputs": [],
   "source": [
    "label_names = {\n",
    "    0: \"entailment\",\n",
    "    1: \"neutral\",\n",
    "    2: \"contradiction\"\n",
    "}\n",
    "def describe_dataset(dataset):\n",
    "    sample = dataset[list(dataset.keys())[0]][0]\n",
    "\n",
    "    print(\"Features:\")\n",
    "    print(list(sample.keys()))\n",
    "\n",
    "\n",
    "    print(\"Sample from dataset:\",end=\"\")\n",
    "    display(HTML(f\"<pre>{json.dumps(sample, sort_keys=True, indent=4)}</pre>\"))\n",
    "\n",
    "\n",
    "    # Table for stats per label\n",
    "    stats = {\n",
    "        split: Counter(\n",
    "            d[\"label\"] for d in dataset[split]\n",
    "        ) for split in dataset.keys()\n",
    "    }\n",
    "    all_labels = set()\n",
    "    for split_stats in stats.values():\n",
    "        all_labels = all_labels.union(split_stats.keys())\n",
    "    header = \"<thead><th>split</th>\"\n",
    "    for label in all_labels:\n",
    "        header += f\"<th>{label_names[label]}</th>\"\n",
    "    header += \"<th>sum</th>\"\n",
    "    header += \"</thead>\"\n",
    "    body = \"<tbody>\"\n",
    "    for split,split_stats in stats.items():\n",
    "        body += f\"<tr><td>{split}</td>\"\n",
    "        body += \"\".join(f\"<td>{split_stats[label]}</td>\" for label in all_labels)\n",
    "        body += f\"<td>{sum(split_stats.values())}</td>\"\n",
    "        body += \"</tr>\"\n",
    "    \n",
    "    body += \"<tr><td>complete</td>\"\n",
    "    body += \"\".join(f\"<td>{sum(stats[split][label] for split in dataset.keys())}</td>\" for label in all_labels)\n",
    "    body += f\"<td>{sum(sum(split_stats.values()) for split_stats in stats.values())}</td>\"\n",
    "    body += \"</tr>\"\n",
    "    \n",
    "    body += \"</tbody>\"\n",
    "    display(HTML(f\"<table>{header}{body}</table>\"))"
   ]
  },
  {
   "cell_type": "code",
   "execution_count": 69,
   "metadata": {},
   "outputs": [
    {
     "name": "stdout",
     "output_type": "stream",
     "text": [
      "Features:\n",
      "['promptID', 'pairID', 'premise', 'premise_binary_parse', 'premise_parse', 'hypothesis', 'hypothesis_binary_parse', 'hypothesis_parse', 'genre', 'label']\n",
      "Sample from dataset:"
     ]
    },
    {
     "data": {
      "text/html": [
       "<pre>{\n",
       "    \"genre\": \"government\",\n",
       "    \"hypothesis\": \"Product and geography are what make cream skimming work. \",\n",
       "    \"hypothesis_binary_parse\": \"( ( ( Product and ) geography ) ( ( are ( what ( make ( cream ( skimming work ) ) ) ) ) . ) )\",\n",
       "    \"hypothesis_parse\": \"(ROOT (S (NP (NN Product) (CC and) (NN geography)) (VP (VBP are) (SBAR (WHNP (WP what)) (S (VP (VBP make) (NP (NP (NN cream)) (VP (VBG skimming) (NP (NN work)))))))) (. .)))\",\n",
       "    \"label\": 1,\n",
       "    \"pairID\": \"31193n\",\n",
       "    \"premise\": \"Conceptually cream skimming has two basic dimensions - product and geography.\",\n",
       "    \"premise_binary_parse\": \"( ( Conceptually ( cream skimming ) ) ( ( has ( ( ( two ( basic dimensions ) ) - ) ( ( product and ) geography ) ) ) . ) )\",\n",
       "    \"premise_parse\": \"(ROOT (S (NP (JJ Conceptually) (NN cream) (NN skimming)) (VP (VBZ has) (NP (NP (CD two) (JJ basic) (NNS dimensions)) (: -) (NP (NN product) (CC and) (NN geography)))) (. .)))\",\n",
       "    \"promptID\": 31193\n",
       "}</pre>"
      ],
      "text/plain": [
       "<IPython.core.display.HTML object>"
      ]
     },
     "metadata": {},
     "output_type": "display_data"
    },
    {
     "data": {
      "text/html": [
       "<table><thead><th>split</th><th>entailment</th><th>neutral</th><th>contradiction</th><th>sum</th></thead><tbody><tr><td>train</td><td>130899</td><td>130900</td><td>130903</td><td>392702</td></tr><tr><td>validation_matched</td><td>3479</td><td>3123</td><td>3213</td><td>9815</td></tr><tr><td>validation_mismatched</td><td>3463</td><td>3129</td><td>3240</td><td>9832</td></tr><tr><td>complete</td><td>137841</td><td>137152</td><td>137356</td><td>412349</td></tr></tbody></table>"
      ],
      "text/plain": [
       "<IPython.core.display.HTML object>"
      ]
     },
     "metadata": {},
     "output_type": "display_data"
    }
   ],
   "source": [
    "describe_dataset(multinli)"
   ]
  },
  {
   "cell_type": "code",
   "execution_count": 70,
   "metadata": {},
   "outputs": [
    {
     "name": "stdout",
     "output_type": "stream",
     "text": [
      "Features:\n",
      "['premise', 'hypothesis', 'label', 'explanation_1', 'explanation_2', 'explanation_3', 'sentence1_highlighted_1', 'sentence2_highlighted_1', 'sentence1_highlighted_2', 'sentence2_highlighted_2', 'sentence1_highlighted_3', 'sentence2_highlighted_3']\n",
      "Sample from dataset:"
     ]
    },
    {
     "data": {
      "text/html": [
       "<pre>{\n",
       "    \"explanation_1\": \"the person is not necessarily training his horse\",\n",
       "    \"explanation_2\": \"\",\n",
       "    \"explanation_3\": \"\",\n",
       "    \"hypothesis\": \"A person is training his horse for a competition.\",\n",
       "    \"label\": 1,\n",
       "    \"premise\": \"A person on a horse jumps over a broken down airplane.\",\n",
       "    \"sentence1_highlighted_1\": \"{}\",\n",
       "    \"sentence1_highlighted_2\": \"\",\n",
       "    \"sentence1_highlighted_3\": \"\",\n",
       "    \"sentence2_highlighted_1\": \"3,4,5\",\n",
       "    \"sentence2_highlighted_2\": \"\",\n",
       "    \"sentence2_highlighted_3\": \"\"\n",
       "}</pre>"
      ],
      "text/plain": [
       "<IPython.core.display.HTML object>"
      ]
     },
     "metadata": {},
     "output_type": "display_data"
    },
    {
     "data": {
      "text/html": [
       "<table><thead><th>split</th><th>entailment</th><th>neutral</th><th>contradiction</th><th>sum</th></thead><tbody><tr><td>train</td><td>183416</td><td>182764</td><td>183187</td><td>549367</td></tr><tr><td>validation</td><td>3329</td><td>3235</td><td>3278</td><td>9842</td></tr><tr><td>test</td><td>3368</td><td>3219</td><td>3237</td><td>9824</td></tr><tr><td>complete</td><td>190113</td><td>189218</td><td>189702</td><td>569033</td></tr></tbody></table>"
      ],
      "text/plain": [
       "<IPython.core.display.HTML object>"
      ]
     },
     "metadata": {},
     "output_type": "display_data"
    }
   ],
   "source": [
    "describe_dataset(esnli)"
   ]
  },
  {
   "cell_type": "code",
   "execution_count": 71,
   "metadata": {},
   "outputs": [
    {
     "name": "stdout",
     "output_type": "stream",
     "text": [
      "Features:\n",
      "['id', 'sentence_A', 'sentence_B', 'label', 'relatedness_score', 'entailment_AB', 'entailment_BA', 'sentence_A_original', 'sentence_B_original', 'sentence_A_dataset', 'sentence_B_dataset']\n",
      "Sample from dataset:"
     ]
    },
    {
     "data": {
      "text/html": [
       "<pre>{\n",
       "    \"entailment_AB\": \"A_neutral_B\",\n",
       "    \"entailment_BA\": \"B_neutral_A\",\n",
       "    \"id\": \"1\",\n",
       "    \"label\": 1,\n",
       "    \"relatedness_score\": 4.5,\n",
       "    \"sentence_A\": \"A group of kids is playing in a yard and an old man is standing in the background\",\n",
       "    \"sentence_A_dataset\": \"FLICKR\",\n",
       "    \"sentence_A_original\": \"A group of children playing in a yard, a man in the background.\",\n",
       "    \"sentence_B\": \"A group of boys in a yard is playing and a man is standing in the background\",\n",
       "    \"sentence_B_dataset\": \"FLICKR\",\n",
       "    \"sentence_B_original\": \"A group of children playing in a yard, a man in the background.\"\n",
       "}</pre>"
      ],
      "text/plain": [
       "<IPython.core.display.HTML object>"
      ]
     },
     "metadata": {},
     "output_type": "display_data"
    },
    {
     "data": {
      "text/html": [
       "<table><thead><th>split</th><th>entailment</th><th>neutral</th><th>contradiction</th><th>sum</th></thead><tbody><tr><td>train</td><td>1274</td><td>2524</td><td>641</td><td>4439</td></tr><tr><td>validation</td><td>143</td><td>281</td><td>71</td><td>495</td></tr><tr><td>test</td><td>1404</td><td>2790</td><td>712</td><td>4906</td></tr><tr><td>complete</td><td>2821</td><td>5595</td><td>1424</td><td>9840</td></tr></tbody></table>"
      ],
      "text/plain": [
       "<IPython.core.display.HTML object>"
      ]
     },
     "metadata": {},
     "output_type": "display_data"
    }
   ],
   "source": [
    "describe_dataset(sick)"
   ]
  }
 ],
 "metadata": {
  "kernelspec": {
   "display_name": "venv",
   "language": "python",
   "name": "python3"
  },
  "language_info": {
   "codemirror_mode": {
    "name": "ipython",
    "version": 3
   },
   "file_extension": ".py",
   "mimetype": "text/x-python",
   "name": "python",
   "nbconvert_exporter": "python",
   "pygments_lexer": "ipython3",
   "version": "3.8.10"
  },
  "orig_nbformat": 4,
  "vscode": {
   "interpreter": {
    "hash": "36e93db65638fd78a7bb99cd4838dd70097690696da21bbf09b6a1f26be61f5a"
   }
  }
 },
 "nbformat": 4,
 "nbformat_minor": 2
}
