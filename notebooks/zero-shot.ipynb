{
 "cells": [
  {
   "cell_type": "code",
   "execution_count": 10,
   "metadata": {},
   "outputs": [],
   "source": [
    "from tqdm import tqdm\n",
    "from datasets import load_dataset\n",
    "from sklearn.metrics import matthews_corrcoef, accuracy_score, f1_score, balanced_accuracy_score\n",
    "from transformers import RobertaTokenizer, RobertaForMaskedLM"
   ]
  },
  {
   "cell_type": "code",
   "execution_count": 2,
   "metadata": {},
   "outputs": [],
   "source": [
    "tokenizer = RobertaTokenizer.from_pretrained('roberta-base')\n",
    "model = RobertaForMaskedLM.from_pretrained('roberta-base')"
   ]
  },
  {
   "cell_type": "code",
   "execution_count": 26,
   "metadata": {},
   "outputs": [
    {
     "name": "stderr",
     "output_type": "stream",
     "text": [
      "Found cached dataset sick (/home/imger/.cache/huggingface/datasets/sick/default/0.0.0/c6b3b0b44eb84b134851396d6d464e5cb8f026960519d640e087fe33472626db)\n",
      "Found cached dataset multi_nli (/home/imger/.cache/huggingface/datasets/multi_nli/default/0.0.0/591f72eb6263d1ab527561777936b199b714cda156d35716881158a2bd144f39)\n",
      "Found cached dataset multi_nli (/home/imger/.cache/huggingface/datasets/multi_nli/default/0.0.0/591f72eb6263d1ab527561777936b199b714cda156d35716881158a2bd144f39)\n",
      "Found cached dataset esnli (/home/imger/.cache/huggingface/datasets/esnli/plain_text/0.0.2/262495ebbd9e71ec9b0c37a93e378f1b353dc28bb904305e011506792a02996b)\n"
     ]
    }
   ],
   "source": [
    "sick = load_dataset(\"sick\", split=\"validation\")\n",
    "multinli_matched = load_dataset(\"multi_nli\", split=\"validation_matched\")\n",
    "multinli_mismatched = load_dataset(\"multi_nli\", split=\"validation_mismatched\")\n",
    "esnli = load_dataset(\"../datasets/esnli.py\", split=\"validation\")"
   ]
  },
  {
   "cell_type": "code",
   "execution_count": 4,
   "metadata": {},
   "outputs": [],
   "source": [
    "MASK = tokenizer(\"<mask>\", add_special_tokens=False)[\"input_ids\"][0]\n",
    "ENTAILMENT_IDS = tokenizer.convert_tokens_to_ids([\"as\", \"because\", \"so\"])\n",
    "NEUTRAL_IDS = tokenizer.convert_tokens_to_ids([\"and\", \"also\", \"or\"])\n",
    "CONTRADICTION_IDS = tokenizer.convert_tokens_to_ids([\"but\", \"although\", \"still\"])\n",
    "\n",
    "def zero_shot_classify(premise, hypothesis):\n",
    "    hypothesis = hypothesis.split(\" \")\n",
    "    hypothesis[0] = hypothesis[0].lower()\n",
    "    hypothesis = \" \".join(hypothesis)\n",
    "    combined = f\"{premise} <mask> {hypothesis}\"\n",
    "    tokenized, attention_mask = tokenizer(combined, return_tensors=\"pt\", add_special_tokens=True).values()\n",
    "\n",
    "    logits = model(tokenized, attention_mask=attention_mask)[\"logits\"]\n",
    "    mask_idx = tokenized[0].tolist().index(MASK)\n",
    "    entailment_score = sum(logits[0, mask_idx, ENTAILMENT_IDS])\n",
    "    neutral_score = sum(logits[0, mask_idx, NEUTRAL_IDS])\n",
    "    contradiction_score = sum(logits[0, mask_idx, CONTRADICTION_IDS])\n",
    "\n",
    "    max_score = max(entailment_score, neutral_score, contradiction_score)\n",
    "    if entailment_score == max_score:\n",
    "        return 0\n",
    "    if neutral_score == max_score:\n",
    "        return 1\n",
    "    if contradiction_score == max_score:\n",
    "        return 2\n",
    "    assert False, \"This should never be reached\""
   ]
  },
  {
   "cell_type": "code",
   "execution_count": 29,
   "metadata": {},
   "outputs": [],
   "source": [
    "def analyze(dataset, premise_key, hypothesis_key, label_key=\"label\"):\n",
    "    true, predicted = [], []\n",
    "    for d in tqdm(dataset):\n",
    "        true.append(d[label_key])\n",
    "        predicted.append(zero_shot_classify(d[premise_key], d[hypothesis_key]))\n",
    "    print(f\"MCC: {matthews_corrcoef(true, predicted)}\")\n",
    "    print(f\"F1: {f1_score(true, predicted, average='macro')}\")\n",
    "    print(f\"Acc: {accuracy_score(true, predicted)}\")\n",
    "    print(f\"BAcc: {balanced_accuracy_score(true, predicted)}\")"
   ]
  },
  {
   "cell_type": "code",
   "execution_count": 30,
   "metadata": {},
   "outputs": [
    {
     "name": "stderr",
     "output_type": "stream",
     "text": [
      "100%|██████████| 495/495 [00:29<00:00, 17.05it/s]"
     ]
    },
    {
     "name": "stdout",
     "output_type": "stream",
     "text": [
      "MCC: 0.11693422964062707\n",
      "F1: 0.40600730362958853\n",
      "Acc: 0.4686868686868687\n",
      "BAcc: 0.4088917615056656\n"
     ]
    },
    {
     "name": "stderr",
     "output_type": "stream",
     "text": [
      "\n"
     ]
    }
   ],
   "source": [
    "analyze(sick, \"sentence_A\", \"sentence_B\")"
   ]
  },
  {
   "cell_type": "code",
   "execution_count": 31,
   "metadata": {},
   "outputs": [
    {
     "name": "stderr",
     "output_type": "stream",
     "text": [
      "100%|██████████| 9815/9815 [11:11<00:00, 14.61it/s]\n"
     ]
    },
    {
     "name": "stdout",
     "output_type": "stream",
     "text": [
      "MCC: 0.07961488162656762\n",
      "F1: 0.3687037677176715\n",
      "Acc: 0.375649516046867\n",
      "BAcc: 0.3824356409470984\n"
     ]
    }
   ],
   "source": [
    "analyze(multinli_matched, \"premise\", \"hypothesis\")"
   ]
  },
  {
   "cell_type": "code",
   "execution_count": 32,
   "metadata": {},
   "outputs": [
    {
     "name": "stderr",
     "output_type": "stream",
     "text": [
      "100%|██████████| 9832/9832 [11:54<00:00, 13.76it/s]"
     ]
    },
    {
     "name": "stdout",
     "output_type": "stream",
     "text": [
      "MCC: 0.07933894087538897\n",
      "F1: 0.357109767038657\n",
      "Acc: 0.3721521562245728\n",
      "BAcc: 0.38034714567859346\n"
     ]
    },
    {
     "name": "stderr",
     "output_type": "stream",
     "text": [
      "\n"
     ]
    }
   ],
   "source": [
    "analyze(multinli_mismatched, \"premise\", \"hypothesis\")"
   ]
  },
  {
   "cell_type": "code",
   "execution_count": 33,
   "metadata": {},
   "outputs": [
    {
     "name": "stderr",
     "output_type": "stream",
     "text": [
      "100%|██████████| 9842/9842 [09:49<00:00, 16.68it/s]\n"
     ]
    },
    {
     "name": "stdout",
     "output_type": "stream",
     "text": [
      "MCC: 0.04946855672579988\n",
      "F1: 0.2779206944750587\n",
      "Acc: 0.35257061572851045\n",
      "BAcc: 0.3552969403729247\n"
     ]
    }
   ],
   "source": [
    "analyze(esnli, \"premise\", \"hypothesis\")"
   ]
  }
 ],
 "metadata": {
  "kernelspec": {
   "display_name": "venv",
   "language": "python",
   "name": "python3"
  },
  "language_info": {
   "codemirror_mode": {
    "name": "ipython",
    "version": 3
   },
   "file_extension": ".py",
   "mimetype": "text/x-python",
   "name": "python",
   "nbconvert_exporter": "python",
   "pygments_lexer": "ipython3",
   "version": "3.8.10"
  },
  "orig_nbformat": 4,
  "vscode": {
   "interpreter": {
    "hash": "2aa3fb215bca76f53379a5e759b4870fc087d7c7f27d239b8095eb76fe98d86f"
   }
  }
 },
 "nbformat": 4,
 "nbformat_minor": 2
}
