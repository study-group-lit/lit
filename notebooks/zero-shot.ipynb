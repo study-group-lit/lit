{
 "cells": [
  {
   "cell_type": "code",
   "execution_count": 1,
   "metadata": {},
   "outputs": [
    {
     "name": "stderr",
     "output_type": "stream",
     "text": [
      "/mnt/c/SAPDevelop/reposp/lit/venv/lib/python3.8/site-packages/tqdm/auto.py:22: TqdmWarning: IProgress not found. Please update jupyter and ipywidgets. See https://ipywidgets.readthedocs.io/en/stable/user_install.html\n",
      "  from .autonotebook import tqdm as notebook_tqdm\n"
     ]
    },
    {
     "ename": "ModuleNotFoundError",
     "evalue": "No module named 'sklearn'",
     "output_type": "error",
     "traceback": [
      "\u001b[0;31m---------------------------------------------------------------------------\u001b[0m",
      "\u001b[0;31mModuleNotFoundError\u001b[0m                       Traceback (most recent call last)",
      "Cell \u001b[0;32mIn[1], line 5\u001b[0m\n\u001b[1;32m      3\u001b[0m \u001b[39mfrom\u001b[39;00m \u001b[39mtqdm\u001b[39;00m \u001b[39mimport\u001b[39;00m tqdm\n\u001b[1;32m      4\u001b[0m \u001b[39mfrom\u001b[39;00m \u001b[39mdatasets\u001b[39;00m \u001b[39mimport\u001b[39;00m load_dataset\n\u001b[0;32m----> 5\u001b[0m \u001b[39mfrom\u001b[39;00m \u001b[39msklearn\u001b[39;00m\u001b[39m.\u001b[39;00m\u001b[39mmetrics\u001b[39;00m \u001b[39mimport\u001b[39;00m matthews_corrcoef\n\u001b[1;32m      6\u001b[0m \u001b[39mfrom\u001b[39;00m \u001b[39mtransformers\u001b[39;00m \u001b[39mimport\u001b[39;00m RobertaTokenizer, RobertaForMaskedLM\n",
      "\u001b[0;31mModuleNotFoundError\u001b[0m: No module named 'sklearn'"
     ]
    }
   ],
   "source": [
    "import torch\n",
    "\n",
    "from tqdm import tqdm\n",
    "from datasets import load_dataset\n",
    "from sklearn.metrics import matthews_corrcoef\n",
    "from transformers import RobertaTokenizer, RobertaForMaskedLM"
   ]
  },
  {
   "cell_type": "code",
   "execution_count": 5,
   "metadata": {},
   "outputs": [],
   "source": [
    "tokenizer = RobertaTokenizer.from_pretrained('roberta-base')\n",
    "model = RobertaForMaskedLM.from_pretrained('roberta-base')"
   ]
  },
  {
   "cell_type": "code",
   "execution_count": 3,
   "metadata": {},
   "outputs": [
    {
     "name": "stderr",
     "output_type": "stream",
     "text": [
      "Found cached dataset sick (/home/imger/.cache/huggingface/datasets/sick/default/0.0.0/c6b3b0b44eb84b134851396d6d464e5cb8f026960519d640e087fe33472626db)\n"
     ]
    }
   ],
   "source": [
    "sick = load_dataset(\"sick\", split=\"validation\")"
   ]
  },
  {
   "cell_type": "code",
   "execution_count": 65,
   "metadata": {},
   "outputs": [],
   "source": [
    "MASK = tokenizer(\"<mask>\", add_special_tokens=False)[\"input_ids\"][0]\n",
    "ENTAILMENT_IDS = tokenizer.convert_tokens_to_ids([\"as\", \"because\", \"so\"])\n",
    "NEUTRAL_IDS = tokenizer.convert_tokens_to_ids([\"and\", \"also\", \"or\"])\n",
    "CONTRADICTION_IDS = tokenizer.convert_tokens_to_ids([\"but\", \"although\", \"still\"])\n",
    "\n",
    "def zero_shot_classify(premise, hypothesis):\n",
    "    hypothesis = hypothesis.split(\" \")\n",
    "    hypothesis[0] = hypothesis[0].lower()\n",
    "    hypothesis = \" \".join(hypothesis)\n",
    "    combined = f\"{premise} <mask> {hypothesis}\"\n",
    "    tokenized, attention_mask = tokenizer(combined, return_tensors=\"pt\", add_special_tokens=True).values()\n",
    "\n",
    "    logits = model(tokenized, attention_mask=attention_mask)[\"logits\"]\n",
    "    mask_idx = tokenized[0].tolist().index(MASK)\n",
    "    entailment_score = sum(logits[0, mask_idx, ENTAILMENT_IDS])\n",
    "    neutral_score = sum(logits[0, mask_idx, NEUTRAL_IDS])\n",
    "    contradiction_score = sum(logits[0, mask_idx, CONTRADICTION_IDS])\n",
    "\n",
    "    max_score = max(entailment_score, neutral_score, contradiction_score)\n",
    "    if entailment_score == max_score:\n",
    "        return 0\n",
    "    if neutral_score == max_score:\n",
    "        return 1\n",
    "    if contradiction_score == max_score:\n",
    "        return 2\n",
    "    assert False, \"This should never be reached\""
   ]
  },
  {
   "cell_type": "code",
   "execution_count": 66,
   "metadata": {},
   "outputs": [
    {
     "name": "stderr",
     "output_type": "stream",
     "text": [
      "100%|██████████| 495/495 [00:32<00:00, 15.27it/s]\n"
     ]
    }
   ],
   "source": [
    "true, predicted = [], []\n",
    "for d in tqdm(sick):\n",
    "    true.append(d[\"label\"])\n",
    "    predicted.append(zero_shot_classify(d[\"sentence_A\"], d[\"sentence_B\"]))"
   ]
  },
  {
   "cell_type": "code",
   "execution_count": 67,
   "metadata": {},
   "outputs": [
    {
     "ename": "ModuleNotFoundError",
     "evalue": "No module named 'sklearn'",
     "output_type": "error",
     "traceback": [
      "\u001b[0;31m---------------------------------------------------------------------------\u001b[0m",
      "\u001b[0;31mModuleNotFoundError\u001b[0m                       Traceback (most recent call last)",
      "Cell \u001b[0;32mIn[67], line 1\u001b[0m\n\u001b[0;32m----> 1\u001b[0m \u001b[39mfrom\u001b[39;00m \u001b[39msklearn\u001b[39;00m\u001b[39m.\u001b[39;00m\u001b[39mmetrics\u001b[39;00m \u001b[39mimport\u001b[39;00m matthews_corrcoef\n",
      "\u001b[0;31mModuleNotFoundError\u001b[0m: No module named 'sklearn'"
     ]
    }
   ],
   "source": []
  }
 ],
 "metadata": {
  "kernelspec": {
   "display_name": "venv",
   "language": "python",
   "name": "python3"
  },
  "language_info": {
   "codemirror_mode": {
    "name": "ipython",
    "version": 3
   },
   "file_extension": ".py",
   "mimetype": "text/x-python",
   "name": "python",
   "nbconvert_exporter": "python",
   "pygments_lexer": "ipython3",
   "version": "3.8.10"
  },
  "orig_nbformat": 4,
  "vscode": {
   "interpreter": {
    "hash": "2aa3fb215bca76f53379a5e759b4870fc087d7c7f27d239b8095eb76fe98d86f"
   }
  }
 },
 "nbformat": 4,
 "nbformat_minor": 2
}
