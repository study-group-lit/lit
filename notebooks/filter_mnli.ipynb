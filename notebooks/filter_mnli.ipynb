{
 "cells": [
  {
   "cell_type": "code",
   "execution_count": 82,
   "metadata": {},
   "outputs": [],
   "source": [
    "import multiprocessing\n",
    "from datasets import load_dataset, DatasetDict\n",
    "from transformers import pipeline"
   ]
  },
  {
   "cell_type": "code",
   "execution_count": 83,
   "metadata": {},
   "outputs": [],
   "source": [
    "seeds = [\"42\", \"69\", \"1337\"]\n",
    "cpu_count = multiprocessing.cpu_count()\n",
    "model_path = \"../models\"\n",
    "dataset_path = \"../datasets\""
   ]
  },
  {
   "cell_type": "code",
   "execution_count": 84,
   "metadata": {},
   "outputs": [],
   "source": [
    "models = dict()\n",
    "for seed in seeds:\n",
    "    models[seed] = pipeline(\"text-classification\", model=f\"{model_path}/hypothesis-only/{seed}\")"
   ]
  },
  {
   "cell_type": "code",
   "execution_count": 85,
   "metadata": {},
   "outputs": [
    {
     "name": "stderr",
     "output_type": "stream",
     "text": [
      "Found cached dataset multi_nli (/Users/I518253/.cache/huggingface/datasets/multi_nli/default/0.0.0/591f72eb6263d1ab527561777936b199b714cda156d35716881158a2bd144f39)\n"
     ]
    },
    {
     "data": {
      "application/vnd.jupyter.widget-view+json": {
       "model_id": "adc6d3c6bc434f8693544ed42efb2a87",
       "version_major": 2,
       "version_minor": 0
      },
      "text/plain": [
       "  0%|          | 0/3 [00:00<?, ?it/s]"
      ]
     },
     "metadata": {},
     "output_type": "display_data"
    }
   ],
   "source": [
    "mnli = load_dataset(\"multi_nli\")\n",
    "\n",
    "mnli[\"train\"] = mnli[\"train\"].select(range(0, 100))"
   ]
  },
  {
   "cell_type": "code",
   "execution_count": 86,
   "metadata": {},
   "outputs": [
    {
     "name": "stdout",
     "output_type": "stream",
     "text": [
      "Adding predictions of model 42...\n"
     ]
    },
    {
     "name": "stderr",
     "output_type": "stream",
     "text": [
      "Loading cached processed dataset at /Users/I518253/.cache/huggingface/datasets/multi_nli/default/0.0.0/591f72eb6263d1ab527561777936b199b714cda156d35716881158a2bd144f39/cache-8db6083a8e077fe6.arrow\n"
     ]
    },
    {
     "name": "stdout",
     "output_type": "stream",
     "text": [
      "Adding predictions of model 69...\n"
     ]
    },
    {
     "name": "stderr",
     "output_type": "stream",
     "text": [
      "Loading cached processed dataset at /Users/I518253/.cache/huggingface/datasets/multi_nli/default/0.0.0/591f72eb6263d1ab527561777936b199b714cda156d35716881158a2bd144f39/cache-85d1a21ad6eb7be7.arrow\n"
     ]
    },
    {
     "name": "stdout",
     "output_type": "stream",
     "text": [
      "Adding predictions of model 1337...\n"
     ]
    },
    {
     "name": "stderr",
     "output_type": "stream",
     "text": [
      "Loading cached processed dataset at /Users/I518253/.cache/huggingface/datasets/multi_nli/default/0.0.0/591f72eb6263d1ab527561777936b199b714cda156d35716881158a2bd144f39/cache-5fde458676fe6892.arrow\n"
     ]
    },
    {
     "data": {
      "application/vnd.jupyter.widget-view+json": {
       "model_id": "8920f9c3462f40cfadcb7a7ab37e6e9a",
       "version_major": 2,
       "version_minor": 0
      },
      "text/plain": [
       "Saving the dataset (0/1 shards):   0%|          | 0/100 [00:00<?, ? examples/s]"
      ]
     },
     "metadata": {},
     "output_type": "display_data"
    },
    {
     "data": {
      "application/vnd.jupyter.widget-view+json": {
       "model_id": "37b139738af94c2ea27e1dc1f4dcdfaa",
       "version_major": 2,
       "version_minor": 0
      },
      "text/plain": [
       "Saving the dataset (0/1 shards):   0%|          | 0/9815 [00:00<?, ? examples/s]"
      ]
     },
     "metadata": {},
     "output_type": "display_data"
    },
    {
     "data": {
      "application/vnd.jupyter.widget-view+json": {
       "model_id": "acaff48d34f34c378ca0a15b020dcb6b",
       "version_major": 2,
       "version_minor": 0
      },
      "text/plain": [
       "Saving the dataset (0/1 shards):   0%|          | 0/9832 [00:00<?, ? examples/s]"
      ]
     },
     "metadata": {},
     "output_type": "display_data"
    }
   ],
   "source": [
    "label_mapping = {\n",
    "    \"ENTAILMENT\": 0,\n",
    "    \"NEUTRAL\": 1,\n",
    "    \"CONTRADICTION\": 2\n",
    "}\n",
    "\n",
    "def add_prediction_columns(record, model, seed):\n",
    "    prediction = model({\"text\":record['premise'], \"text_pair\":record['hypothesis']})\n",
    "    label = prediction[\"label\"]\n",
    "    score = prediction[\"score\"]\n",
    "    return { f\"prediction_{seed}\": label_mapping[label], f\"score_{seed}\": score }\n",
    "\n",
    "for seed in seeds:\n",
    "    print(f\"Adding predictions of model {seed}...\")\n",
    "    model = models[seed]\n",
    "    mnli[\"train\"] = mnli[\"train\"].map(add_prediction_columns, fn_kwargs={ \"model\": model, \"seed\": seed })\n",
    "mnli.save_to_disk(f\"{dataset_path}/mnli_with_predictions\")"
   ]
  },
  {
   "cell_type": "code",
   "execution_count": 87,
   "metadata": {},
   "outputs": [
    {
     "data": {
      "text/plain": [
       "{'promptID': 134793,\n",
       " 'pairID': '134793e',\n",
       " 'premise': 'One of our number will carry out your instructions minutely.',\n",
       " 'premise_binary_parse': '( ( One ( of ( our number ) ) ) ( ( will ( ( ( carry out ) ( your instructions ) ) minutely ) ) . ) )',\n",
       " 'premise_parse': '(ROOT (S (NP (NP (CD One)) (PP (IN of) (NP (PRP$ our) (NN number)))) (VP (MD will) (VP (VB carry) (PRT (RP out)) (NP (PRP$ your) (NNS instructions)) (ADVP (RB minutely)))) (. .)))',\n",
       " 'hypothesis': 'A member of my team will execute your orders with immense precision.',\n",
       " 'hypothesis_binary_parse': '( ( ( A member ) ( of ( my team ) ) ) ( ( will ( ( execute ( your orders ) ) ( with ( immense precision ) ) ) ) . ) )',\n",
       " 'hypothesis_parse': '(ROOT (S (NP (NP (DT A) (NN member)) (PP (IN of) (NP (PRP$ my) (NN team)))) (VP (MD will) (VP (VB execute) (NP (PRP$ your) (NNS orders)) (PP (IN with) (NP (JJ immense) (NN precision))))) (. .)))',\n",
       " 'genre': 'fiction',\n",
       " 'label': 0,\n",
       " 'prediction_42': 1,\n",
       " 'score_42': 0.8558771014213562,\n",
       " 'prediction_69': 1,\n",
       " 'score_69': 0.5747983455657959,\n",
       " 'prediction_1337': 1,\n",
       " 'score_1337': 0.7695184946060181}"
      ]
     },
     "execution_count": 87,
     "metadata": {},
     "output_type": "execute_result"
    }
   ],
   "source": [
    "mnli[\"train\"][2]"
   ]
  },
  {
   "cell_type": "code",
   "execution_count": 88,
   "metadata": {},
   "outputs": [],
   "source": [
    "def correct_by_at_least(record, at_least):\n",
    "    predictions = []\n",
    "    for seed in seeds:\n",
    "        predictions.append(record[f\"prediction_{seed}\"])\n",
    "    return len(list(filter(lambda pred: pred == record[\"label\"], predictions))) >= at_least"
   ]
  },
  {
   "cell_type": "code",
   "execution_count": 90,
   "metadata": {},
   "outputs": [
    {
     "name": "stderr",
     "output_type": "stream",
     "text": [
      "Loading cached processed dataset at /Users/I518253/.cache/huggingface/datasets/multi_nli/default/0.0.0/591f72eb6263d1ab527561777936b199b714cda156d35716881158a2bd144f39/cache-76be5b57b56b6b81_*_of_00010.arrow\n"
     ]
    },
    {
     "name": "stdout",
     "output_type": "stream",
     "text": [
      "Filtering split by at least two...\n"
     ]
    },
    {
     "data": {
      "application/vnd.jupyter.widget-view+json": {
       "model_id": "6e6c37b1ccbc486394aaf13810076312",
       "version_major": 2,
       "version_minor": 0
      },
      "text/plain": [
       "Flattening the indices:   0%|          | 0/50 [00:00<?, ? examples/s]"
      ]
     },
     "metadata": {},
     "output_type": "display_data"
    },
    {
     "data": {
      "application/vnd.jupyter.widget-view+json": {
       "model_id": "49e767f504e2432cb577ee73dde17335",
       "version_major": 2,
       "version_minor": 0
      },
      "text/plain": [
       "Saving the dataset (0/1 shards):   0%|          | 0/50 [00:00<?, ? examples/s]"
      ]
     },
     "metadata": {},
     "output_type": "display_data"
    }
   ],
   "source": [
    "mnli_at_least_two = DatasetDict()\n",
    "print(f\"Filtering split by at least two...\")\n",
    "mnli_at_least_two[\"train\"] = mnli[\"train\"].filter(correct_by_at_least, fn_kwargs={ \"at_least\": 2 }, num_proc=cpu_count)\n",
    "print(f\"Saving filtered datset...\")\n",
    "mnli_at_least_two.save_to_disk(f\"{dataset_path}/mnli_at_least_two\")"
   ]
  },
  {
   "cell_type": "code",
   "execution_count": 91,
   "metadata": {},
   "outputs": [
    {
     "name": "stdout",
     "output_type": "stream",
     "text": [
      "Filtering split by three...\n"
     ]
    },
    {
     "data": {
      "application/vnd.jupyter.widget-view+json": {
       "model_id": "cf5b6460ce004dd0b8ae237f707f7427",
       "version_major": 2,
       "version_minor": 0
      },
      "text/plain": [
       "Filter (num_proc=10):   0%|          | 0/100 [00:00<?, ? examples/s]"
      ]
     },
     "metadata": {},
     "output_type": "display_data"
    },
    {
     "data": {
      "application/vnd.jupyter.widget-view+json": {
       "model_id": "3ee6cd71f63b4877ac5e1ed9c771087d",
       "version_major": 2,
       "version_minor": 0
      },
      "text/plain": [
       "Flattening the indices:   0%|          | 0/37 [00:00<?, ? examples/s]"
      ]
     },
     "metadata": {},
     "output_type": "display_data"
    },
    {
     "data": {
      "application/vnd.jupyter.widget-view+json": {
       "model_id": "f73b662192dd487c9a2132b3b9ca1ae9",
       "version_major": 2,
       "version_minor": 0
      },
      "text/plain": [
       "Saving the dataset (0/1 shards):   0%|          | 0/37 [00:00<?, ? examples/s]"
      ]
     },
     "metadata": {},
     "output_type": "display_data"
    }
   ],
   "source": [
    "mnli_three = DatasetDict()\n",
    "print(f\"Filtering split by three...\")\n",
    "mnli_three[\"train\"] = mnli[\"train\"].filter(correct_by_at_least, fn_kwargs={ \"at_least\": 3 }, num_proc=cpu_count)\n",
    "print(f\"Saving filtered datset...\")\n",
    "mnli_three.save_to_disk(f\"{dataset_path}/mnli_three\")"
   ]
  }
 ],
 "metadata": {
  "kernelspec": {
   "display_name": "lit",
   "language": "python",
   "name": "lit"
  },
  "language_info": {
   "codemirror_mode": {
    "name": "ipython",
    "version": 3
   },
   "file_extension": ".py",
   "mimetype": "text/x-python",
   "name": "python",
   "nbconvert_exporter": "python",
   "pygments_lexer": "ipython3",
   "version": "3.9.6"
  },
  "orig_nbformat": 4
 },
 "nbformat": 4,
 "nbformat_minor": 2
}
