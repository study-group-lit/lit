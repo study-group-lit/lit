{
 "cells": [
  {
   "cell_type": "code",
   "execution_count": 37,
   "metadata": {},
   "outputs": [],
   "source": [
    "from datasets import load_dataset\n",
    "from transformers import RobertaForSequenceClassification, RobertaModel, RobertaConfig, RobertaTokenizer\n",
    "from ferret import Benchmark\n",
    "from ferret import SHAPExplainer, LIMEExplainer, IntegratedGradientExplainer\n",
    "from statistics import mean, median\n",
    "import json"
   ]
  },
  {
   "cell_type": "code",
   "execution_count": 38,
   "metadata": {},
   "outputs": [],
   "source": [
    "seed = 42"
   ]
  },
  {
   "cell_type": "code",
   "execution_count": 39,
   "metadata": {},
   "outputs": [
    {
     "name": "stderr",
     "output_type": "stream",
     "text": [
      "Found cached dataset esnli (/home/students/loeser/.cache/huggingface/datasets/esnli/plain_text/0.0.2/262495ebbd9e71ec9b0c37a93e378f1b353dc28bb904305e011506792a02996b)\n"
     ]
    }
   ],
   "source": [
    "esnli = load_dataset(\"../datasets/esnli.py\", split='validation')"
   ]
  },
  {
   "cell_type": "code",
   "execution_count": 40,
   "metadata": {},
   "outputs": [
    {
     "name": "stderr",
     "output_type": "stream",
     "text": [
      "Some weights of the model checkpoint at ../models/roberta-base-mnli-hypothesis-only/42/ were not used when initializing RobertaModel: ['classifier.dense.bias', 'classifier.out_proj.bias', 'classifier.dense.weight', 'classifier.out_proj.weight']\n",
      "- This IS expected if you are initializing RobertaModel from the checkpoint of a model trained on another task or with another architecture (e.g. initializing a BertForSequenceClassification model from a BertForPreTraining model).\n",
      "- This IS NOT expected if you are initializing RobertaModel from the checkpoint of a model that you expect to be exactly identical (initializing a BertForSequenceClassification model from a BertForSequenceClassification model).\n",
      "Some weights of RobertaModel were not initialized from the model checkpoint at ../models/roberta-base-mnli-hypothesis-only/42/ and are newly initialized: ['roberta.pooler.dense.bias', 'roberta.pooler.dense.weight']\n",
      "You should probably TRAIN this model on a down-stream task to be able to use it for predictions and inference.\n"
     ]
    }
   ],
   "source": [
    "model_path = f\"../models/roberta-base-mnli-hypothesis-only/{seed}/\"\n",
    "\n",
    "model = RobertaForSequenceClassification.from_pretrained(model_path)\n",
    "tokenizer = RobertaTokenizer.from_pretrained(\"roberta-base\")"
   ]
  },
  {
   "cell_type": "code",
   "execution_count": 41,
   "metadata": {},
   "outputs": [],
   "source": [
    "explainers = [\n",
    "    SHAPExplainer(model, tokenizer),\n",
    "    LIMEExplainer(model, tokenizer),\n",
    "    IntegratedGradientExplainer(model, tokenizer, multiply_by_inputs=False),\n",
    "    IntegratedGradientExplainer(model, tokenizer, multiply_by_inputs=True)\n",
    "]\n",
    "bench = Benchmark(model, tokenizer, explainers=explainers)"
   ]
  },
  {
   "cell_type": "code",
   "execution_count": 42,
   "metadata": {},
   "outputs": [],
   "source": [
    "BPE_DIVIDER_TOKEN = \"Ġ\"\n",
    "def create_one_hot(hypothesis, esnli_explanation):\n",
    "    tokens = tokenizer.tokenize(hypothesis)\n",
    "    one_hot_encoding = []\n",
    "    current_word_index = 0\n",
    "    for token in tokens:\n",
    "        if token.startswith(BPE_DIVIDER_TOKEN):\n",
    "            current_word_index+=1\n",
    "        token_code = 1 if str(current_word_index) in esnli_explanation else 0\n",
    "        one_hot_encoding.append(token_code)\n",
    "    return one_hot_encoding"
   ]
  },
  {
   "cell_type": "code",
   "execution_count": 43,
   "metadata": {},
   "outputs": [],
   "source": [
    "def calculate_evaluations(row):\n",
    "    hypothesis = row[\"hypothesis\"]\n",
    "    label = row[\"label\"]\n",
    "    esnli_explanation = row[\"sentence2_highlighted_1\"]\n",
    "    rationale = create_one_hot(hypothesis, esnli_explanation)\n",
    "    ferret_explanations = bench.explain(hypothesis, target=label)\n",
    "    \n",
    "    row[\"ferret_explanations\"] = [explanation.scores for explanation in ferret_explanations]\n",
    "    evaluations = [bench.evaluate_explanation(explanation, label, rationale) for explanation in ferret_explanations]\n",
    "    row[\"evaluations\"] = [[evaluation_score.score for evaluation_score in evaluation.evaluation_scores] for evaluation in evaluations]\n",
    "    return row\n",
    "\n",
    "# The item ferret_explanations contains the scores for the explanations of Shap, LIME, Integrated Gradient and Integrated Gradients multiplying inputs\n",
    "# The item evaluations contains scores for each explanation for AOPC comprehensiveness, AOPC sufficiency, Tau LOO, AUPRC, Token F1, Token IOU\n",
    "# https://github.com/g8a9/ferret/blob/b1343501db6367ca9048283862f8e0763c72e4ba/ferret/benchmark.py#L88"
   ]
  },
  {
   "cell_type": "code",
   "execution_count": 44,
   "metadata": {},
   "outputs": [],
   "source": [
    "def calculate_score(dataset, row_value_selector, score):\n",
    "    # Use python map, as we want values, not table entries\n",
    "    value_dataset = map(row_value_selector, dataset)\n",
    "    # Score takes an iter and returns a value\n",
    "    return score(value_dataset)\n",
    "\n",
    "def calculate_dataset_scores(dataset):\n",
    "    scores = [sum, min, max, median, mean]\n",
    "    score_names = [\"sum\", \"min\", \"max\", \"median\", \"mean\"]\n",
    "    explainer_names = [\"shap\", \"lime\", \"integrated_gradient\", \"integrated_gradient_multiply_by_inputs\"]\n",
    "    evaluator_names = [\"comprehensiveness\", \"sufficiency\", \"loo\", \"auprc_plausibility\", \"tokenf1_plausibility\", \"tokeniou_plausibility\"]\n",
    "    dataset_scores = {}\n",
    "    for i, explainer_name in zip(range(4), explainer_names): # 4 explainers\n",
    "        dataset_scores[explainer_name] = {}\n",
    "        for j, evaluator_name in zip(range(6), evaluator_names): # 6 evaluators for each explainers\n",
    "            row_value_selector = lambda row: row[\"evaluations\"][i][j]\n",
    "            evaluation_scores = [calculate_score(dataset, row_value_selector, score) for score in scores]\n",
    "            named_evaluation_scores = {name: value for (name, value) in zip(score_names, evaluation_scores)}\n",
    "            dataset_scores[explainer_name][evaluator_name] = named_evaluation_scores\n",
    "\n",
    "    return dataset_scores\n"
   ]
  },
  {
   "cell_type": "code",
   "execution_count": 45,
   "metadata": {},
   "outputs": [
    {
     "data": {
      "application/vnd.jupyter.widget-view+json": {
       "model_id": "452abf4a5b9844328a0adc93f17a34c9",
       "version_major": 2,
       "version_minor": 0
      },
      "text/plain": [
       "Map:   0%|          | 0/30 [00:00<?, ? examples/s]"
      ]
     },
     "metadata": {},
     "output_type": "display_data"
    },
    {
     "data": {
      "application/vnd.jupyter.widget-view+json": {
       "model_id": "b0b88ef657204a269bc32f0682d0ab34",
       "version_major": 2,
       "version_minor": 0
      },
      "text/plain": [
       "Explainer:   0%|          | 0/4 [00:00<?, ?it/s]"
      ]
     },
     "metadata": {},
     "output_type": "display_data"
    },
    {
     "data": {
      "application/vnd.jupyter.widget-view+json": {
       "model_id": "27f44e2b8e2e4e85be547c2a446143cc",
       "version_major": 2,
       "version_minor": 0
      },
      "text/plain": [
       "Evaluator:   0%|          | 0/6 [00:00<?, ?it/s]"
      ]
     },
     "metadata": {},
     "output_type": "display_data"
    },
    {
     "data": {
      "application/vnd.jupyter.widget-view+json": {
       "model_id": "96699ae992c4499e9350a2c82f1fcccc",
       "version_major": 2,
       "version_minor": 0
      },
      "text/plain": [
       "Evaluator:   0%|          | 0/6 [00:00<?, ?it/s]"
      ]
     },
     "metadata": {},
     "output_type": "display_data"
    },
    {
     "data": {
      "application/vnd.jupyter.widget-view+json": {
       "model_id": "da230856339c4d5c905dc3a0c421119b",
       "version_major": 2,
       "version_minor": 0
      },
      "text/plain": [
       "Evaluator:   0%|          | 0/6 [00:00<?, ?it/s]"
      ]
     },
     "metadata": {},
     "output_type": "display_data"
    },
    {
     "data": {
      "application/vnd.jupyter.widget-view+json": {
       "model_id": "87cd8719bdbb41138d1d1998de4f29dd",
       "version_major": 2,
       "version_minor": 0
      },
      "text/plain": [
       "Evaluator:   0%|          | 0/6 [00:00<?, ?it/s]"
      ]
     },
     "metadata": {},
     "output_type": "display_data"
    },
    {
     "data": {
      "application/vnd.jupyter.widget-view+json": {
       "model_id": "a7a6160ab9364e0eab573f892793c877",
       "version_major": 2,
       "version_minor": 0
      },
      "text/plain": [
       "Explainer:   0%|          | 0/4 [00:00<?, ?it/s]"
      ]
     },
     "metadata": {},
     "output_type": "display_data"
    },
    {
     "data": {
      "application/vnd.jupyter.widget-view+json": {
       "model_id": "34078721d3d441778c71868d126db670",
       "version_major": 2,
       "version_minor": 0
      },
      "text/plain": [
       "Evaluator:   0%|          | 0/6 [00:00<?, ?it/s]"
      ]
     },
     "metadata": {},
     "output_type": "display_data"
    },
    {
     "data": {
      "application/vnd.jupyter.widget-view+json": {
       "model_id": "c8e01768cd1f45ca925c17d350bf7a84",
       "version_major": 2,
       "version_minor": 0
      },
      "text/plain": [
       "Evaluator:   0%|          | 0/6 [00:00<?, ?it/s]"
      ]
     },
     "metadata": {},
     "output_type": "display_data"
    },
    {
     "data": {
      "application/vnd.jupyter.widget-view+json": {
       "model_id": "34a20492a0cd4e079212f3e7d92aa5c8",
       "version_major": 2,
       "version_minor": 0
      },
      "text/plain": [
       "Evaluator:   0%|          | 0/6 [00:00<?, ?it/s]"
      ]
     },
     "metadata": {},
     "output_type": "display_data"
    },
    {
     "data": {
      "application/vnd.jupyter.widget-view+json": {
       "model_id": "9673f22abd3d4d67ae860b2632371dc9",
       "version_major": 2,
       "version_minor": 0
      },
      "text/plain": [
       "Evaluator:   0%|          | 0/6 [00:00<?, ?it/s]"
      ]
     },
     "metadata": {},
     "output_type": "display_data"
    },
    {
     "data": {
      "application/vnd.jupyter.widget-view+json": {
       "model_id": "f2e6db2d4ca4477780f31357329288fe",
       "version_major": 2,
       "version_minor": 0
      },
      "text/plain": [
       "Explainer:   0%|          | 0/4 [00:00<?, ?it/s]"
      ]
     },
     "metadata": {},
     "output_type": "display_data"
    },
    {
     "data": {
      "application/vnd.jupyter.widget-view+json": {
       "model_id": "b49fa2438fea4ef98882310329c4a31f",
       "version_major": 2,
       "version_minor": 0
      },
      "text/plain": [
       "Evaluator:   0%|          | 0/6 [00:00<?, ?it/s]"
      ]
     },
     "metadata": {},
     "output_type": "display_data"
    },
    {
     "data": {
      "application/vnd.jupyter.widget-view+json": {
       "model_id": "23af585a671a46fe8df766d54ff442e0",
       "version_major": 2,
       "version_minor": 0
      },
      "text/plain": [
       "Evaluator:   0%|          | 0/6 [00:00<?, ?it/s]"
      ]
     },
     "metadata": {},
     "output_type": "display_data"
    },
    {
     "data": {
      "application/vnd.jupyter.widget-view+json": {
       "model_id": "7aab6280e4b2447a95791149d7cb6a07",
       "version_major": 2,
       "version_minor": 0
      },
      "text/plain": [
       "Evaluator:   0%|          | 0/6 [00:00<?, ?it/s]"
      ]
     },
     "metadata": {},
     "output_type": "display_data"
    },
    {
     "data": {
      "application/vnd.jupyter.widget-view+json": {
       "model_id": "d5fbf2af2f5b440092e0832e352888aa",
       "version_major": 2,
       "version_minor": 0
      },
      "text/plain": [
       "Evaluator:   0%|          | 0/6 [00:00<?, ?it/s]"
      ]
     },
     "metadata": {},
     "output_type": "display_data"
    },
    {
     "data": {
      "application/vnd.jupyter.widget-view+json": {
       "model_id": "08ff5c92ff1943cdb3ae6e3a4027208d",
       "version_major": 2,
       "version_minor": 0
      },
      "text/plain": [
       "Explainer:   0%|          | 0/4 [00:00<?, ?it/s]"
      ]
     },
     "metadata": {},
     "output_type": "display_data"
    },
    {
     "data": {
      "application/vnd.jupyter.widget-view+json": {
       "model_id": "73c0ad4e8507464db07b810c3684cb95",
       "version_major": 2,
       "version_minor": 0
      },
      "text/plain": [
       "Evaluator:   0%|          | 0/6 [00:00<?, ?it/s]"
      ]
     },
     "metadata": {},
     "output_type": "display_data"
    },
    {
     "data": {
      "application/vnd.jupyter.widget-view+json": {
       "model_id": "cd72ebf475da4d7fa5367bf588128a44",
       "version_major": 2,
       "version_minor": 0
      },
      "text/plain": [
       "Evaluator:   0%|          | 0/6 [00:00<?, ?it/s]"
      ]
     },
     "metadata": {},
     "output_type": "display_data"
    },
    {
     "data": {
      "application/vnd.jupyter.widget-view+json": {
       "model_id": "adc6d11326cb486dadf6bce0accd12c4",
       "version_major": 2,
       "version_minor": 0
      },
      "text/plain": [
       "Evaluator:   0%|          | 0/6 [00:00<?, ?it/s]"
      ]
     },
     "metadata": {},
     "output_type": "display_data"
    },
    {
     "data": {
      "application/vnd.jupyter.widget-view+json": {
       "model_id": "777853f0fb924cf68842d6a0a43ed719",
       "version_major": 2,
       "version_minor": 0
      },
      "text/plain": [
       "Evaluator:   0%|          | 0/6 [00:00<?, ?it/s]"
      ]
     },
     "metadata": {},
     "output_type": "display_data"
    },
    {
     "data": {
      "application/vnd.jupyter.widget-view+json": {
       "model_id": "511b74ae5bde4b6b8aa38a5edf23f5cb",
       "version_major": 2,
       "version_minor": 0
      },
      "text/plain": [
       "Explainer:   0%|          | 0/4 [00:00<?, ?it/s]"
      ]
     },
     "metadata": {},
     "output_type": "display_data"
    },
    {
     "data": {
      "application/vnd.jupyter.widget-view+json": {
       "model_id": "3c4a3dd5aaa94111bf4820c7202b45f1",
       "version_major": 2,
       "version_minor": 0
      },
      "text/plain": [
       "Evaluator:   0%|          | 0/6 [00:00<?, ?it/s]"
      ]
     },
     "metadata": {},
     "output_type": "display_data"
    },
    {
     "data": {
      "application/vnd.jupyter.widget-view+json": {
       "model_id": "6c779abdfdf1402080119ae7ff317ad2",
       "version_major": 2,
       "version_minor": 0
      },
      "text/plain": [
       "Evaluator:   0%|          | 0/6 [00:00<?, ?it/s]"
      ]
     },
     "metadata": {},
     "output_type": "display_data"
    },
    {
     "data": {
      "application/vnd.jupyter.widget-view+json": {
       "model_id": "ac16009019e44c5d8c83d92cb89d5567",
       "version_major": 2,
       "version_minor": 0
      },
      "text/plain": [
       "Evaluator:   0%|          | 0/6 [00:00<?, ?it/s]"
      ]
     },
     "metadata": {},
     "output_type": "display_data"
    },
    {
     "data": {
      "application/vnd.jupyter.widget-view+json": {
       "model_id": "5af489b697ea4f13a41666bda26a33c8",
       "version_major": 2,
       "version_minor": 0
      },
      "text/plain": [
       "Evaluator:   0%|          | 0/6 [00:00<?, ?it/s]"
      ]
     },
     "metadata": {},
     "output_type": "display_data"
    },
    {
     "data": {
      "application/vnd.jupyter.widget-view+json": {
       "model_id": "2825fdc6cd1646868dac2d97f23568cb",
       "version_major": 2,
       "version_minor": 0
      },
      "text/plain": [
       "Explainer:   0%|          | 0/4 [00:00<?, ?it/s]"
      ]
     },
     "metadata": {},
     "output_type": "display_data"
    },
    {
     "data": {
      "application/vnd.jupyter.widget-view+json": {
       "model_id": "964035a9e02147fe82916c9b6679af3d",
       "version_major": 2,
       "version_minor": 0
      },
      "text/plain": [
       "Evaluator:   0%|          | 0/6 [00:00<?, ?it/s]"
      ]
     },
     "metadata": {},
     "output_type": "display_data"
    },
    {
     "data": {
      "application/vnd.jupyter.widget-view+json": {
       "model_id": "7f69f1e882094c6fa2ba390df40de867",
       "version_major": 2,
       "version_minor": 0
      },
      "text/plain": [
       "Evaluator:   0%|          | 0/6 [00:00<?, ?it/s]"
      ]
     },
     "metadata": {},
     "output_type": "display_data"
    },
    {
     "data": {
      "application/vnd.jupyter.widget-view+json": {
       "model_id": "7bf3d0e7bac74d239cbd1fb9ba9bf409",
       "version_major": 2,
       "version_minor": 0
      },
      "text/plain": [
       "Evaluator:   0%|          | 0/6 [00:00<?, ?it/s]"
      ]
     },
     "metadata": {},
     "output_type": "display_data"
    },
    {
     "data": {
      "application/vnd.jupyter.widget-view+json": {
       "model_id": "0a42d2d4e138416bae7a2edf4d4c47b8",
       "version_major": 2,
       "version_minor": 0
      },
      "text/plain": [
       "Evaluator:   0%|          | 0/6 [00:00<?, ?it/s]"
      ]
     },
     "metadata": {},
     "output_type": "display_data"
    },
    {
     "data": {
      "application/vnd.jupyter.widget-view+json": {
       "model_id": "df9ef91ce4504ac0ae5cbf2b12f47f46",
       "version_major": 2,
       "version_minor": 0
      },
      "text/plain": [
       "Explainer:   0%|          | 0/4 [00:00<?, ?it/s]"
      ]
     },
     "metadata": {},
     "output_type": "display_data"
    },
    {
     "data": {
      "application/vnd.jupyter.widget-view+json": {
       "model_id": "b17fb637c9cd45c6b473020d5eb2841c",
       "version_major": 2,
       "version_minor": 0
      },
      "text/plain": [
       "Evaluator:   0%|          | 0/6 [00:00<?, ?it/s]"
      ]
     },
     "metadata": {},
     "output_type": "display_data"
    },
    {
     "data": {
      "application/vnd.jupyter.widget-view+json": {
       "model_id": "a105fd49013948deaede93a0b480512e",
       "version_major": 2,
       "version_minor": 0
      },
      "text/plain": [
       "Evaluator:   0%|          | 0/6 [00:00<?, ?it/s]"
      ]
     },
     "metadata": {},
     "output_type": "display_data"
    },
    {
     "data": {
      "application/vnd.jupyter.widget-view+json": {
       "model_id": "be16fa4afe0d42ae9a6117e85b83784a",
       "version_major": 2,
       "version_minor": 0
      },
      "text/plain": [
       "Evaluator:   0%|          | 0/6 [00:00<?, ?it/s]"
      ]
     },
     "metadata": {},
     "output_type": "display_data"
    },
    {
     "data": {
      "application/vnd.jupyter.widget-view+json": {
       "model_id": "5f21b1b853e44cee94451b02584dff39",
       "version_major": 2,
       "version_minor": 0
      },
      "text/plain": [
       "Evaluator:   0%|          | 0/6 [00:00<?, ?it/s]"
      ]
     },
     "metadata": {},
     "output_type": "display_data"
    },
    {
     "data": {
      "application/vnd.jupyter.widget-view+json": {
       "model_id": "2436eb2023964c229e9d55cb676352db",
       "version_major": 2,
       "version_minor": 0
      },
      "text/plain": [
       "Explainer:   0%|          | 0/4 [00:00<?, ?it/s]"
      ]
     },
     "metadata": {},
     "output_type": "display_data"
    },
    {
     "data": {
      "application/vnd.jupyter.widget-view+json": {
       "model_id": "94fca6a593684e5cbbfeaeed36faf532",
       "version_major": 2,
       "version_minor": 0
      },
      "text/plain": [
       "Evaluator:   0%|          | 0/6 [00:00<?, ?it/s]"
      ]
     },
     "metadata": {},
     "output_type": "display_data"
    },
    {
     "data": {
      "application/vnd.jupyter.widget-view+json": {
       "model_id": "c0aa085a331b42828bb5cb55b6afa81b",
       "version_major": 2,
       "version_minor": 0
      },
      "text/plain": [
       "Evaluator:   0%|          | 0/6 [00:00<?, ?it/s]"
      ]
     },
     "metadata": {},
     "output_type": "display_data"
    },
    {
     "data": {
      "application/vnd.jupyter.widget-view+json": {
       "model_id": "ad41ae4e98274179a65d07ea3bc76b4e",
       "version_major": 2,
       "version_minor": 0
      },
      "text/plain": [
       "Evaluator:   0%|          | 0/6 [00:00<?, ?it/s]"
      ]
     },
     "metadata": {},
     "output_type": "display_data"
    },
    {
     "data": {
      "application/vnd.jupyter.widget-view+json": {
       "model_id": "59c05a384d8f43eba1838f8156cd8400",
       "version_major": 2,
       "version_minor": 0
      },
      "text/plain": [
       "Evaluator:   0%|          | 0/6 [00:00<?, ?it/s]"
      ]
     },
     "metadata": {},
     "output_type": "display_data"
    },
    {
     "data": {
      "application/vnd.jupyter.widget-view+json": {
       "model_id": "c08b915d556945009ee466120c3625dc",
       "version_major": 2,
       "version_minor": 0
      },
      "text/plain": [
       "Explainer:   0%|          | 0/4 [00:00<?, ?it/s]"
      ]
     },
     "metadata": {},
     "output_type": "display_data"
    },
    {
     "data": {
      "application/vnd.jupyter.widget-view+json": {
       "model_id": "92b477a0daef4c698a07888992219145",
       "version_major": 2,
       "version_minor": 0
      },
      "text/plain": [
       "Evaluator:   0%|          | 0/6 [00:00<?, ?it/s]"
      ]
     },
     "metadata": {},
     "output_type": "display_data"
    },
    {
     "data": {
      "application/vnd.jupyter.widget-view+json": {
       "model_id": "5ce0349ab405472ebbac5e84314c40a9",
       "version_major": 2,
       "version_minor": 0
      },
      "text/plain": [
       "Evaluator:   0%|          | 0/6 [00:00<?, ?it/s]"
      ]
     },
     "metadata": {},
     "output_type": "display_data"
    },
    {
     "data": {
      "application/vnd.jupyter.widget-view+json": {
       "model_id": "afbfbce7a85245ae963dbfb5487fd9c3",
       "version_major": 2,
       "version_minor": 0
      },
      "text/plain": [
       "Evaluator:   0%|          | 0/6 [00:00<?, ?it/s]"
      ]
     },
     "metadata": {},
     "output_type": "display_data"
    },
    {
     "data": {
      "application/vnd.jupyter.widget-view+json": {
       "model_id": "0c53866c20e945f09719e6fcdb0800c0",
       "version_major": 2,
       "version_minor": 0
      },
      "text/plain": [
       "Evaluator:   0%|          | 0/6 [00:00<?, ?it/s]"
      ]
     },
     "metadata": {},
     "output_type": "display_data"
    },
    {
     "data": {
      "application/vnd.jupyter.widget-view+json": {
       "model_id": "7c4d1e7961384642a361073fbeb0219f",
       "version_major": 2,
       "version_minor": 0
      },
      "text/plain": [
       "Explainer:   0%|          | 0/4 [00:00<?, ?it/s]"
      ]
     },
     "metadata": {},
     "output_type": "display_data"
    },
    {
     "data": {
      "application/vnd.jupyter.widget-view+json": {
       "model_id": "754ba1122a0340a0941d0be7990a646c",
       "version_major": 2,
       "version_minor": 0
      },
      "text/plain": [
       "Evaluator:   0%|          | 0/6 [00:00<?, ?it/s]"
      ]
     },
     "metadata": {},
     "output_type": "display_data"
    },
    {
     "data": {
      "application/vnd.jupyter.widget-view+json": {
       "model_id": "3e86101156a14c0a815a84099acec310",
       "version_major": 2,
       "version_minor": 0
      },
      "text/plain": [
       "Evaluator:   0%|          | 0/6 [00:00<?, ?it/s]"
      ]
     },
     "metadata": {},
     "output_type": "display_data"
    },
    {
     "data": {
      "application/vnd.jupyter.widget-view+json": {
       "model_id": "a7936237fc564484b067b9d64297bf94",
       "version_major": 2,
       "version_minor": 0
      },
      "text/plain": [
       "Evaluator:   0%|          | 0/6 [00:00<?, ?it/s]"
      ]
     },
     "metadata": {},
     "output_type": "display_data"
    },
    {
     "data": {
      "application/vnd.jupyter.widget-view+json": {
       "model_id": "18b38e0e22f74a81a015ddbf9bb72d96",
       "version_major": 2,
       "version_minor": 0
      },
      "text/plain": [
       "Evaluator:   0%|          | 0/6 [00:00<?, ?it/s]"
      ]
     },
     "metadata": {},
     "output_type": "display_data"
    },
    {
     "data": {
      "application/vnd.jupyter.widget-view+json": {
       "model_id": "0e48037efd84495aa0c4a23ef86f6c46",
       "version_major": 2,
       "version_minor": 0
      },
      "text/plain": [
       "Explainer:   0%|          | 0/4 [00:00<?, ?it/s]"
      ]
     },
     "metadata": {},
     "output_type": "display_data"
    },
    {
     "data": {
      "application/vnd.jupyter.widget-view+json": {
       "model_id": "0d107983c2cc4c849d9aa57d919a358d",
       "version_major": 2,
       "version_minor": 0
      },
      "text/plain": [
       "Evaluator:   0%|          | 0/6 [00:00<?, ?it/s]"
      ]
     },
     "metadata": {},
     "output_type": "display_data"
    },
    {
     "data": {
      "application/vnd.jupyter.widget-view+json": {
       "model_id": "86910a0a2f06491c855803a5118c01e8",
       "version_major": 2,
       "version_minor": 0
      },
      "text/plain": [
       "Evaluator:   0%|          | 0/6 [00:00<?, ?it/s]"
      ]
     },
     "metadata": {},
     "output_type": "display_data"
    },
    {
     "data": {
      "application/vnd.jupyter.widget-view+json": {
       "model_id": "2b2d477246004d7c800d50a479fd3035",
       "version_major": 2,
       "version_minor": 0
      },
      "text/plain": [
       "Evaluator:   0%|          | 0/6 [00:00<?, ?it/s]"
      ]
     },
     "metadata": {},
     "output_type": "display_data"
    },
    {
     "data": {
      "application/vnd.jupyter.widget-view+json": {
       "model_id": "6ce36c4131ea4bf880672880a0233167",
       "version_major": 2,
       "version_minor": 0
      },
      "text/plain": [
       "Evaluator:   0%|          | 0/6 [00:00<?, ?it/s]"
      ]
     },
     "metadata": {},
     "output_type": "display_data"
    },
    {
     "data": {
      "application/vnd.jupyter.widget-view+json": {
       "model_id": "cd71f76abd9546f7b77a781ee90c1b87",
       "version_major": 2,
       "version_minor": 0
      },
      "text/plain": [
       "Explainer:   0%|          | 0/4 [00:00<?, ?it/s]"
      ]
     },
     "metadata": {},
     "output_type": "display_data"
    },
    {
     "data": {
      "application/vnd.jupyter.widget-view+json": {
       "model_id": "c127dbaae9034a5a82edd9b4393e91e3",
       "version_major": 2,
       "version_minor": 0
      },
      "text/plain": [
       "Evaluator:   0%|          | 0/6 [00:00<?, ?it/s]"
      ]
     },
     "metadata": {},
     "output_type": "display_data"
    },
    {
     "data": {
      "application/vnd.jupyter.widget-view+json": {
       "model_id": "95c6aa31eca34ae5959aa484e23cf0dc",
       "version_major": 2,
       "version_minor": 0
      },
      "text/plain": [
       "Evaluator:   0%|          | 0/6 [00:00<?, ?it/s]"
      ]
     },
     "metadata": {},
     "output_type": "display_data"
    },
    {
     "data": {
      "application/vnd.jupyter.widget-view+json": {
       "model_id": "05e74789e5414841863fe591ebbcd314",
       "version_major": 2,
       "version_minor": 0
      },
      "text/plain": [
       "Evaluator:   0%|          | 0/6 [00:00<?, ?it/s]"
      ]
     },
     "metadata": {},
     "output_type": "display_data"
    },
    {
     "data": {
      "application/vnd.jupyter.widget-view+json": {
       "model_id": "4a2e89f3c967405191f06bca3734777e",
       "version_major": 2,
       "version_minor": 0
      },
      "text/plain": [
       "Evaluator:   0%|          | 0/6 [00:00<?, ?it/s]"
      ]
     },
     "metadata": {},
     "output_type": "display_data"
    },
    {
     "data": {
      "application/vnd.jupyter.widget-view+json": {
       "model_id": "9c10d9f06327449495854afc0aa1ed50",
       "version_major": 2,
       "version_minor": 0
      },
      "text/plain": [
       "Explainer:   0%|          | 0/4 [00:00<?, ?it/s]"
      ]
     },
     "metadata": {},
     "output_type": "display_data"
    },
    {
     "data": {
      "application/vnd.jupyter.widget-view+json": {
       "model_id": "ca23a2dfc9a94fed9e676f0705cde32c",
       "version_major": 2,
       "version_minor": 0
      },
      "text/plain": [
       "Evaluator:   0%|          | 0/6 [00:00<?, ?it/s]"
      ]
     },
     "metadata": {},
     "output_type": "display_data"
    },
    {
     "data": {
      "application/vnd.jupyter.widget-view+json": {
       "model_id": "5b705888ac9e4635822f3bb607cb09c2",
       "version_major": 2,
       "version_minor": 0
      },
      "text/plain": [
       "Evaluator:   0%|          | 0/6 [00:00<?, ?it/s]"
      ]
     },
     "metadata": {},
     "output_type": "display_data"
    },
    {
     "data": {
      "application/vnd.jupyter.widget-view+json": {
       "model_id": "c1034ba9dd6a4a50ba8437053852a91c",
       "version_major": 2,
       "version_minor": 0
      },
      "text/plain": [
       "Evaluator:   0%|          | 0/6 [00:00<?, ?it/s]"
      ]
     },
     "metadata": {},
     "output_type": "display_data"
    },
    {
     "data": {
      "application/vnd.jupyter.widget-view+json": {
       "model_id": "50491dd1278e4e8eb7b03b828a5c5fc3",
       "version_major": 2,
       "version_minor": 0
      },
      "text/plain": [
       "Evaluator:   0%|          | 0/6 [00:00<?, ?it/s]"
      ]
     },
     "metadata": {},
     "output_type": "display_data"
    },
    {
     "data": {
      "application/vnd.jupyter.widget-view+json": {
       "model_id": "74536f17e5674fbcaca92bfb7f027481",
       "version_major": 2,
       "version_minor": 0
      },
      "text/plain": [
       "Explainer:   0%|          | 0/4 [00:00<?, ?it/s]"
      ]
     },
     "metadata": {},
     "output_type": "display_data"
    },
    {
     "data": {
      "application/vnd.jupyter.widget-view+json": {
       "model_id": "060423f404e8439293f5b95d28ea2d1a",
       "version_major": 2,
       "version_minor": 0
      },
      "text/plain": [
       "Evaluator:   0%|          | 0/6 [00:00<?, ?it/s]"
      ]
     },
     "metadata": {},
     "output_type": "display_data"
    },
    {
     "data": {
      "application/vnd.jupyter.widget-view+json": {
       "model_id": "9645ae736ad04baf8d72c071400b0f92",
       "version_major": 2,
       "version_minor": 0
      },
      "text/plain": [
       "Evaluator:   0%|          | 0/6 [00:00<?, ?it/s]"
      ]
     },
     "metadata": {},
     "output_type": "display_data"
    },
    {
     "data": {
      "application/vnd.jupyter.widget-view+json": {
       "model_id": "4136b7b9b79040c3a91386c0030b3f07",
       "version_major": 2,
       "version_minor": 0
      },
      "text/plain": [
       "Evaluator:   0%|          | 0/6 [00:00<?, ?it/s]"
      ]
     },
     "metadata": {},
     "output_type": "display_data"
    },
    {
     "data": {
      "application/vnd.jupyter.widget-view+json": {
       "model_id": "a109d61b99fe469996ed7aed96e048e8",
       "version_major": 2,
       "version_minor": 0
      },
      "text/plain": [
       "Evaluator:   0%|          | 0/6 [00:00<?, ?it/s]"
      ]
     },
     "metadata": {},
     "output_type": "display_data"
    },
    {
     "data": {
      "application/vnd.jupyter.widget-view+json": {
       "model_id": "b8e9030f7e0c4f35a84ce11063129a73",
       "version_major": 2,
       "version_minor": 0
      },
      "text/plain": [
       "Explainer:   0%|          | 0/4 [00:00<?, ?it/s]"
      ]
     },
     "metadata": {},
     "output_type": "display_data"
    },
    {
     "data": {
      "application/vnd.jupyter.widget-view+json": {
       "model_id": "e34666585b69469e97ec1bdf3c5beb77",
       "version_major": 2,
       "version_minor": 0
      },
      "text/plain": [
       "Evaluator:   0%|          | 0/6 [00:00<?, ?it/s]"
      ]
     },
     "metadata": {},
     "output_type": "display_data"
    },
    {
     "data": {
      "application/vnd.jupyter.widget-view+json": {
       "model_id": "f778a41fb5314081840067e02824b3f8",
       "version_major": 2,
       "version_minor": 0
      },
      "text/plain": [
       "Evaluator:   0%|          | 0/6 [00:00<?, ?it/s]"
      ]
     },
     "metadata": {},
     "output_type": "display_data"
    },
    {
     "data": {
      "application/vnd.jupyter.widget-view+json": {
       "model_id": "bdb0dcab7ac14199a7f4ea79d2f86670",
       "version_major": 2,
       "version_minor": 0
      },
      "text/plain": [
       "Evaluator:   0%|          | 0/6 [00:00<?, ?it/s]"
      ]
     },
     "metadata": {},
     "output_type": "display_data"
    },
    {
     "data": {
      "application/vnd.jupyter.widget-view+json": {
       "model_id": "e266a55c74494b3496548882ae133fbe",
       "version_major": 2,
       "version_minor": 0
      },
      "text/plain": [
       "Evaluator:   0%|          | 0/6 [00:00<?, ?it/s]"
      ]
     },
     "metadata": {},
     "output_type": "display_data"
    },
    {
     "data": {
      "application/vnd.jupyter.widget-view+json": {
       "model_id": "10370ec74acd48aa9c6445c93f3ab69d",
       "version_major": 2,
       "version_minor": 0
      },
      "text/plain": [
       "Explainer:   0%|          | 0/4 [00:00<?, ?it/s]"
      ]
     },
     "metadata": {},
     "output_type": "display_data"
    },
    {
     "data": {
      "application/vnd.jupyter.widget-view+json": {
       "model_id": "a09213f471b54b4eabcd84af75003d6d",
       "version_major": 2,
       "version_minor": 0
      },
      "text/plain": [
       "Evaluator:   0%|          | 0/6 [00:00<?, ?it/s]"
      ]
     },
     "metadata": {},
     "output_type": "display_data"
    },
    {
     "data": {
      "application/vnd.jupyter.widget-view+json": {
       "model_id": "3fd329807d614f3f83d7a6af57ca11d6",
       "version_major": 2,
       "version_minor": 0
      },
      "text/plain": [
       "Evaluator:   0%|          | 0/6 [00:00<?, ?it/s]"
      ]
     },
     "metadata": {},
     "output_type": "display_data"
    },
    {
     "data": {
      "application/vnd.jupyter.widget-view+json": {
       "model_id": "c0256f7be3124f0cb2a796ba14cb67a8",
       "version_major": 2,
       "version_minor": 0
      },
      "text/plain": [
       "Evaluator:   0%|          | 0/6 [00:00<?, ?it/s]"
      ]
     },
     "metadata": {},
     "output_type": "display_data"
    },
    {
     "data": {
      "application/vnd.jupyter.widget-view+json": {
       "model_id": "10b5a8c3199b4920a91c6673cb7f838a",
       "version_major": 2,
       "version_minor": 0
      },
      "text/plain": [
       "Evaluator:   0%|          | 0/6 [00:00<?, ?it/s]"
      ]
     },
     "metadata": {},
     "output_type": "display_data"
    },
    {
     "data": {
      "application/vnd.jupyter.widget-view+json": {
       "model_id": "311be40991264ddc98b0a3653208b4e9",
       "version_major": 2,
       "version_minor": 0
      },
      "text/plain": [
       "Explainer:   0%|          | 0/4 [00:00<?, ?it/s]"
      ]
     },
     "metadata": {},
     "output_type": "display_data"
    },
    {
     "data": {
      "application/vnd.jupyter.widget-view+json": {
       "model_id": "45b6824a7c9d48e0b6c7c465f3011700",
       "version_major": 2,
       "version_minor": 0
      },
      "text/plain": [
       "Evaluator:   0%|          | 0/6 [00:00<?, ?it/s]"
      ]
     },
     "metadata": {},
     "output_type": "display_data"
    },
    {
     "data": {
      "application/vnd.jupyter.widget-view+json": {
       "model_id": "294d8032ba3a4cf28ffdb76a36162c80",
       "version_major": 2,
       "version_minor": 0
      },
      "text/plain": [
       "Evaluator:   0%|          | 0/6 [00:00<?, ?it/s]"
      ]
     },
     "metadata": {},
     "output_type": "display_data"
    },
    {
     "data": {
      "application/vnd.jupyter.widget-view+json": {
       "model_id": "860e7e3a1d2c40e6b9b591e17165eae2",
       "version_major": 2,
       "version_minor": 0
      },
      "text/plain": [
       "Evaluator:   0%|          | 0/6 [00:00<?, ?it/s]"
      ]
     },
     "metadata": {},
     "output_type": "display_data"
    },
    {
     "data": {
      "application/vnd.jupyter.widget-view+json": {
       "model_id": "5815544d8bcf4a0ea5eb19e1d97b5768",
       "version_major": 2,
       "version_minor": 0
      },
      "text/plain": [
       "Evaluator:   0%|          | 0/6 [00:00<?, ?it/s]"
      ]
     },
     "metadata": {},
     "output_type": "display_data"
    },
    {
     "data": {
      "application/vnd.jupyter.widget-view+json": {
       "model_id": "e305947838654a08b08d54d39977b35f",
       "version_major": 2,
       "version_minor": 0
      },
      "text/plain": [
       "Explainer:   0%|          | 0/4 [00:00<?, ?it/s]"
      ]
     },
     "metadata": {},
     "output_type": "display_data"
    },
    {
     "data": {
      "application/vnd.jupyter.widget-view+json": {
       "model_id": "0b95a38a17f540089469e703092068a0",
       "version_major": 2,
       "version_minor": 0
      },
      "text/plain": [
       "Evaluator:   0%|          | 0/6 [00:00<?, ?it/s]"
      ]
     },
     "metadata": {},
     "output_type": "display_data"
    },
    {
     "data": {
      "application/vnd.jupyter.widget-view+json": {
       "model_id": "31180c24449c46f3ba5c5d5db42213ef",
       "version_major": 2,
       "version_minor": 0
      },
      "text/plain": [
       "Evaluator:   0%|          | 0/6 [00:00<?, ?it/s]"
      ]
     },
     "metadata": {},
     "output_type": "display_data"
    },
    {
     "data": {
      "application/vnd.jupyter.widget-view+json": {
       "model_id": "475d397ea5f84ed98c74d2b6314d5e60",
       "version_major": 2,
       "version_minor": 0
      },
      "text/plain": [
       "Evaluator:   0%|          | 0/6 [00:00<?, ?it/s]"
      ]
     },
     "metadata": {},
     "output_type": "display_data"
    },
    {
     "data": {
      "application/vnd.jupyter.widget-view+json": {
       "model_id": "41e5dda04c184390b0be2c396bc05423",
       "version_major": 2,
       "version_minor": 0
      },
      "text/plain": [
       "Evaluator:   0%|          | 0/6 [00:00<?, ?it/s]"
      ]
     },
     "metadata": {},
     "output_type": "display_data"
    },
    {
     "data": {
      "application/vnd.jupyter.widget-view+json": {
       "model_id": "6b6b744be8784a3e8ac2516d25bd5f07",
       "version_major": 2,
       "version_minor": 0
      },
      "text/plain": [
       "Explainer:   0%|          | 0/4 [00:00<?, ?it/s]"
      ]
     },
     "metadata": {},
     "output_type": "display_data"
    },
    {
     "data": {
      "application/vnd.jupyter.widget-view+json": {
       "model_id": "009fc926ce9e4c8daad685b2cd4ffa0b",
       "version_major": 2,
       "version_minor": 0
      },
      "text/plain": [
       "Evaluator:   0%|          | 0/6 [00:00<?, ?it/s]"
      ]
     },
     "metadata": {},
     "output_type": "display_data"
    },
    {
     "data": {
      "application/vnd.jupyter.widget-view+json": {
       "model_id": "181b75b483f240049a42e054cda2917e",
       "version_major": 2,
       "version_minor": 0
      },
      "text/plain": [
       "Evaluator:   0%|          | 0/6 [00:00<?, ?it/s]"
      ]
     },
     "metadata": {},
     "output_type": "display_data"
    },
    {
     "data": {
      "application/vnd.jupyter.widget-view+json": {
       "model_id": "62625aff403d47dfbfbca20c575c16ad",
       "version_major": 2,
       "version_minor": 0
      },
      "text/plain": [
       "Evaluator:   0%|          | 0/6 [00:00<?, ?it/s]"
      ]
     },
     "metadata": {},
     "output_type": "display_data"
    },
    {
     "data": {
      "application/vnd.jupyter.widget-view+json": {
       "model_id": "58f0a607bd1b433ba2efc3a9b3e69665",
       "version_major": 2,
       "version_minor": 0
      },
      "text/plain": [
       "Evaluator:   0%|          | 0/6 [00:00<?, ?it/s]"
      ]
     },
     "metadata": {},
     "output_type": "display_data"
    },
    {
     "data": {
      "application/vnd.jupyter.widget-view+json": {
       "model_id": "b1595484057446249a05128b20d98016",
       "version_major": 2,
       "version_minor": 0
      },
      "text/plain": [
       "Explainer:   0%|          | 0/4 [00:00<?, ?it/s]"
      ]
     },
     "metadata": {},
     "output_type": "display_data"
    },
    {
     "data": {
      "application/vnd.jupyter.widget-view+json": {
       "model_id": "078d59d93cd9478ca82a289a17c9b6e0",
       "version_major": 2,
       "version_minor": 0
      },
      "text/plain": [
       "Evaluator:   0%|          | 0/6 [00:00<?, ?it/s]"
      ]
     },
     "metadata": {},
     "output_type": "display_data"
    },
    {
     "data": {
      "application/vnd.jupyter.widget-view+json": {
       "model_id": "53272d5cf9354bf087ef6a6bb32f129d",
       "version_major": 2,
       "version_minor": 0
      },
      "text/plain": [
       "Evaluator:   0%|          | 0/6 [00:00<?, ?it/s]"
      ]
     },
     "metadata": {},
     "output_type": "display_data"
    },
    {
     "data": {
      "application/vnd.jupyter.widget-view+json": {
       "model_id": "c6a413989c114dc4befaeb8621a66e1d",
       "version_major": 2,
       "version_minor": 0
      },
      "text/plain": [
       "Evaluator:   0%|          | 0/6 [00:00<?, ?it/s]"
      ]
     },
     "metadata": {},
     "output_type": "display_data"
    },
    {
     "data": {
      "application/vnd.jupyter.widget-view+json": {
       "model_id": "ffbba383dc6741e09d5b1306edecd955",
       "version_major": 2,
       "version_minor": 0
      },
      "text/plain": [
       "Evaluator:   0%|          | 0/6 [00:00<?, ?it/s]"
      ]
     },
     "metadata": {},
     "output_type": "display_data"
    },
    {
     "data": {
      "application/vnd.jupyter.widget-view+json": {
       "model_id": "59555c64d5384734947965b1c489ee28",
       "version_major": 2,
       "version_minor": 0
      },
      "text/plain": [
       "Explainer:   0%|          | 0/4 [00:00<?, ?it/s]"
      ]
     },
     "metadata": {},
     "output_type": "display_data"
    },
    {
     "data": {
      "application/vnd.jupyter.widget-view+json": {
       "model_id": "b4b29252f89340bfb50141348380103d",
       "version_major": 2,
       "version_minor": 0
      },
      "text/plain": [
       "Evaluator:   0%|          | 0/6 [00:00<?, ?it/s]"
      ]
     },
     "metadata": {},
     "output_type": "display_data"
    },
    {
     "data": {
      "application/vnd.jupyter.widget-view+json": {
       "model_id": "d02ef98ecb5f4d8bb70ec910c8c131fc",
       "version_major": 2,
       "version_minor": 0
      },
      "text/plain": [
       "Evaluator:   0%|          | 0/6 [00:00<?, ?it/s]"
      ]
     },
     "metadata": {},
     "output_type": "display_data"
    },
    {
     "data": {
      "application/vnd.jupyter.widget-view+json": {
       "model_id": "89a86d3319b7473694345bc94f9577d6",
       "version_major": 2,
       "version_minor": 0
      },
      "text/plain": [
       "Evaluator:   0%|          | 0/6 [00:00<?, ?it/s]"
      ]
     },
     "metadata": {},
     "output_type": "display_data"
    },
    {
     "data": {
      "application/vnd.jupyter.widget-view+json": {
       "model_id": "2bbd06302c244a8eb3476653ef8cf74d",
       "version_major": 2,
       "version_minor": 0
      },
      "text/plain": [
       "Evaluator:   0%|          | 0/6 [00:00<?, ?it/s]"
      ]
     },
     "metadata": {},
     "output_type": "display_data"
    },
    {
     "data": {
      "application/vnd.jupyter.widget-view+json": {
       "model_id": "86f5931879b64159b5c092c8587fd085",
       "version_major": 2,
       "version_minor": 0
      },
      "text/plain": [
       "Explainer:   0%|          | 0/4 [00:00<?, ?it/s]"
      ]
     },
     "metadata": {},
     "output_type": "display_data"
    },
    {
     "data": {
      "application/vnd.jupyter.widget-view+json": {
       "model_id": "d08ce631ae4041e1acb96c416362e796",
       "version_major": 2,
       "version_minor": 0
      },
      "text/plain": [
       "Evaluator:   0%|          | 0/6 [00:00<?, ?it/s]"
      ]
     },
     "metadata": {},
     "output_type": "display_data"
    },
    {
     "data": {
      "application/vnd.jupyter.widget-view+json": {
       "model_id": "b72a5531d1a14fa4a9fe1b932c18f876",
       "version_major": 2,
       "version_minor": 0
      },
      "text/plain": [
       "Evaluator:   0%|          | 0/6 [00:00<?, ?it/s]"
      ]
     },
     "metadata": {},
     "output_type": "display_data"
    },
    {
     "data": {
      "application/vnd.jupyter.widget-view+json": {
       "model_id": "2c09b558b86e40fe8808e640bdb3adaa",
       "version_major": 2,
       "version_minor": 0
      },
      "text/plain": [
       "Evaluator:   0%|          | 0/6 [00:00<?, ?it/s]"
      ]
     },
     "metadata": {},
     "output_type": "display_data"
    },
    {
     "data": {
      "application/vnd.jupyter.widget-view+json": {
       "model_id": "b69ef16774d745ada528512e148b5701",
       "version_major": 2,
       "version_minor": 0
      },
      "text/plain": [
       "Evaluator:   0%|          | 0/6 [00:00<?, ?it/s]"
      ]
     },
     "metadata": {},
     "output_type": "display_data"
    },
    {
     "data": {
      "application/vnd.jupyter.widget-view+json": {
       "model_id": "9a572795b8fd4bf8a9df6d695e9d9b0c",
       "version_major": 2,
       "version_minor": 0
      },
      "text/plain": [
       "Explainer:   0%|          | 0/4 [00:00<?, ?it/s]"
      ]
     },
     "metadata": {},
     "output_type": "display_data"
    },
    {
     "data": {
      "application/vnd.jupyter.widget-view+json": {
       "model_id": "dd7db2cec0d84bf19d21fb1262475c7a",
       "version_major": 2,
       "version_minor": 0
      },
      "text/plain": [
       "Evaluator:   0%|          | 0/6 [00:00<?, ?it/s]"
      ]
     },
     "metadata": {},
     "output_type": "display_data"
    },
    {
     "data": {
      "application/vnd.jupyter.widget-view+json": {
       "model_id": "446e943fd5564464b0b3f8966e53b8e6",
       "version_major": 2,
       "version_minor": 0
      },
      "text/plain": [
       "Evaluator:   0%|          | 0/6 [00:00<?, ?it/s]"
      ]
     },
     "metadata": {},
     "output_type": "display_data"
    },
    {
     "data": {
      "application/vnd.jupyter.widget-view+json": {
       "model_id": "0c02184336184e56a3b31e61c0be3832",
       "version_major": 2,
       "version_minor": 0
      },
      "text/plain": [
       "Evaluator:   0%|          | 0/6 [00:00<?, ?it/s]"
      ]
     },
     "metadata": {},
     "output_type": "display_data"
    },
    {
     "data": {
      "application/vnd.jupyter.widget-view+json": {
       "model_id": "93040a8167374677bc1e0f965047eb17",
       "version_major": 2,
       "version_minor": 0
      },
      "text/plain": [
       "Evaluator:   0%|          | 0/6 [00:00<?, ?it/s]"
      ]
     },
     "metadata": {},
     "output_type": "display_data"
    },
    {
     "data": {
      "application/vnd.jupyter.widget-view+json": {
       "model_id": "8b867c90ec6345cf98dc1f875255db0f",
       "version_major": 2,
       "version_minor": 0
      },
      "text/plain": [
       "Explainer:   0%|          | 0/4 [00:00<?, ?it/s]"
      ]
     },
     "metadata": {},
     "output_type": "display_data"
    },
    {
     "data": {
      "application/vnd.jupyter.widget-view+json": {
       "model_id": "13e3f658795245049f3e609def600de5",
       "version_major": 2,
       "version_minor": 0
      },
      "text/plain": [
       "Evaluator:   0%|          | 0/6 [00:00<?, ?it/s]"
      ]
     },
     "metadata": {},
     "output_type": "display_data"
    },
    {
     "data": {
      "application/vnd.jupyter.widget-view+json": {
       "model_id": "a38c140589f2499b91fea27ac8f6fae0",
       "version_major": 2,
       "version_minor": 0
      },
      "text/plain": [
       "Evaluator:   0%|          | 0/6 [00:00<?, ?it/s]"
      ]
     },
     "metadata": {},
     "output_type": "display_data"
    },
    {
     "data": {
      "application/vnd.jupyter.widget-view+json": {
       "model_id": "03f311a62711440caebe523a0805b986",
       "version_major": 2,
       "version_minor": 0
      },
      "text/plain": [
       "Evaluator:   0%|          | 0/6 [00:00<?, ?it/s]"
      ]
     },
     "metadata": {},
     "output_type": "display_data"
    },
    {
     "data": {
      "application/vnd.jupyter.widget-view+json": {
       "model_id": "b153ecff092d4c7f8182dacd1c721513",
       "version_major": 2,
       "version_minor": 0
      },
      "text/plain": [
       "Evaluator:   0%|          | 0/6 [00:00<?, ?it/s]"
      ]
     },
     "metadata": {},
     "output_type": "display_data"
    },
    {
     "data": {
      "application/vnd.jupyter.widget-view+json": {
       "model_id": "dc910bb9ac2a4125a34f569cab40c145",
       "version_major": 2,
       "version_minor": 0
      },
      "text/plain": [
       "Explainer:   0%|          | 0/4 [00:00<?, ?it/s]"
      ]
     },
     "metadata": {},
     "output_type": "display_data"
    },
    {
     "data": {
      "application/vnd.jupyter.widget-view+json": {
       "model_id": "81cb7db0a95442489f50161f64f141ec",
       "version_major": 2,
       "version_minor": 0
      },
      "text/plain": [
       "Evaluator:   0%|          | 0/6 [00:00<?, ?it/s]"
      ]
     },
     "metadata": {},
     "output_type": "display_data"
    },
    {
     "data": {
      "application/vnd.jupyter.widget-view+json": {
       "model_id": "8bf1193cf2e84e5ea530ee282adf6642",
       "version_major": 2,
       "version_minor": 0
      },
      "text/plain": [
       "Evaluator:   0%|          | 0/6 [00:00<?, ?it/s]"
      ]
     },
     "metadata": {},
     "output_type": "display_data"
    },
    {
     "data": {
      "application/vnd.jupyter.widget-view+json": {
       "model_id": "b1ffb9eed40e454096d73cf682406e3d",
       "version_major": 2,
       "version_minor": 0
      },
      "text/plain": [
       "Evaluator:   0%|          | 0/6 [00:00<?, ?it/s]"
      ]
     },
     "metadata": {},
     "output_type": "display_data"
    },
    {
     "data": {
      "application/vnd.jupyter.widget-view+json": {
       "model_id": "6e19a3c5345d43fea8a3056a468efdc1",
       "version_major": 2,
       "version_minor": 0
      },
      "text/plain": [
       "Evaluator:   0%|          | 0/6 [00:00<?, ?it/s]"
      ]
     },
     "metadata": {},
     "output_type": "display_data"
    },
    {
     "data": {
      "application/vnd.jupyter.widget-view+json": {
       "model_id": "7bf491c67fb24e1180f4a28cc5343e72",
       "version_major": 2,
       "version_minor": 0
      },
      "text/plain": [
       "Explainer:   0%|          | 0/4 [00:00<?, ?it/s]"
      ]
     },
     "metadata": {},
     "output_type": "display_data"
    },
    {
     "data": {
      "application/vnd.jupyter.widget-view+json": {
       "model_id": "0cf6768807f441ed9eff8da21b6c522c",
       "version_major": 2,
       "version_minor": 0
      },
      "text/plain": [
       "Evaluator:   0%|          | 0/6 [00:00<?, ?it/s]"
      ]
     },
     "metadata": {},
     "output_type": "display_data"
    },
    {
     "data": {
      "application/vnd.jupyter.widget-view+json": {
       "model_id": "aa71b24c70c448e29ee016a8c322b6ac",
       "version_major": 2,
       "version_minor": 0
      },
      "text/plain": [
       "Evaluator:   0%|          | 0/6 [00:00<?, ?it/s]"
      ]
     },
     "metadata": {},
     "output_type": "display_data"
    },
    {
     "data": {
      "application/vnd.jupyter.widget-view+json": {
       "model_id": "39751531da374f4fab75d693994338cf",
       "version_major": 2,
       "version_minor": 0
      },
      "text/plain": [
       "Evaluator:   0%|          | 0/6 [00:00<?, ?it/s]"
      ]
     },
     "metadata": {},
     "output_type": "display_data"
    },
    {
     "data": {
      "application/vnd.jupyter.widget-view+json": {
       "model_id": "7835665f31ae434f8c53ecc708b2652f",
       "version_major": 2,
       "version_minor": 0
      },
      "text/plain": [
       "Evaluator:   0%|          | 0/6 [00:00<?, ?it/s]"
      ]
     },
     "metadata": {},
     "output_type": "display_data"
    },
    {
     "data": {
      "application/vnd.jupyter.widget-view+json": {
       "model_id": "a2d048c2827d40f39e2ac028b006e8e2",
       "version_major": 2,
       "version_minor": 0
      },
      "text/plain": [
       "Explainer:   0%|          | 0/4 [00:00<?, ?it/s]"
      ]
     },
     "metadata": {},
     "output_type": "display_data"
    },
    {
     "data": {
      "application/vnd.jupyter.widget-view+json": {
       "model_id": "008be38df5c84878bc707f2a7ec867c4",
       "version_major": 2,
       "version_minor": 0
      },
      "text/plain": [
       "Evaluator:   0%|          | 0/6 [00:00<?, ?it/s]"
      ]
     },
     "metadata": {},
     "output_type": "display_data"
    },
    {
     "data": {
      "application/vnd.jupyter.widget-view+json": {
       "model_id": "6b8ab7b7d4334855bd8522b3f315235f",
       "version_major": 2,
       "version_minor": 0
      },
      "text/plain": [
       "Evaluator:   0%|          | 0/6 [00:00<?, ?it/s]"
      ]
     },
     "metadata": {},
     "output_type": "display_data"
    },
    {
     "data": {
      "application/vnd.jupyter.widget-view+json": {
       "model_id": "79834142cfaf4a1a91e17bf65e27fb44",
       "version_major": 2,
       "version_minor": 0
      },
      "text/plain": [
       "Evaluator:   0%|          | 0/6 [00:00<?, ?it/s]"
      ]
     },
     "metadata": {},
     "output_type": "display_data"
    },
    {
     "data": {
      "application/vnd.jupyter.widget-view+json": {
       "model_id": "80bf2edef5304fdfae5c4484c7a1560f",
       "version_major": 2,
       "version_minor": 0
      },
      "text/plain": [
       "Evaluator:   0%|          | 0/6 [00:00<?, ?it/s]"
      ]
     },
     "metadata": {},
     "output_type": "display_data"
    },
    {
     "data": {
      "application/vnd.jupyter.widget-view+json": {
       "model_id": "e36943b4744f46c39b907f38d93fe655",
       "version_major": 2,
       "version_minor": 0
      },
      "text/plain": [
       "Explainer:   0%|          | 0/4 [00:00<?, ?it/s]"
      ]
     },
     "metadata": {},
     "output_type": "display_data"
    },
    {
     "data": {
      "application/vnd.jupyter.widget-view+json": {
       "model_id": "6f0f8192c48d4a2e95b67fc0f8ba6865",
       "version_major": 2,
       "version_minor": 0
      },
      "text/plain": [
       "Evaluator:   0%|          | 0/6 [00:00<?, ?it/s]"
      ]
     },
     "metadata": {},
     "output_type": "display_data"
    },
    {
     "data": {
      "application/vnd.jupyter.widget-view+json": {
       "model_id": "d1cd23f3196246cfbd0089a4e26a5e61",
       "version_major": 2,
       "version_minor": 0
      },
      "text/plain": [
       "Evaluator:   0%|          | 0/6 [00:00<?, ?it/s]"
      ]
     },
     "metadata": {},
     "output_type": "display_data"
    },
    {
     "data": {
      "application/vnd.jupyter.widget-view+json": {
       "model_id": "b991649d69ef499baed66d78d14af328",
       "version_major": 2,
       "version_minor": 0
      },
      "text/plain": [
       "Evaluator:   0%|          | 0/6 [00:00<?, ?it/s]"
      ]
     },
     "metadata": {},
     "output_type": "display_data"
    },
    {
     "data": {
      "application/vnd.jupyter.widget-view+json": {
       "model_id": "75d54145f703451dafdfc00ac6b62ce6",
       "version_major": 2,
       "version_minor": 0
      },
      "text/plain": [
       "Evaluator:   0%|          | 0/6 [00:00<?, ?it/s]"
      ]
     },
     "metadata": {},
     "output_type": "display_data"
    },
    {
     "data": {
      "application/vnd.jupyter.widget-view+json": {
       "model_id": "ca248cfd07c0460393675642887cb4c2",
       "version_major": 2,
       "version_minor": 0
      },
      "text/plain": [
       "Explainer:   0%|          | 0/4 [00:00<?, ?it/s]"
      ]
     },
     "metadata": {},
     "output_type": "display_data"
    },
    {
     "data": {
      "application/vnd.jupyter.widget-view+json": {
       "model_id": "b54bd8dc79c243b380f88016e3903df7",
       "version_major": 2,
       "version_minor": 0
      },
      "text/plain": [
       "Evaluator:   0%|          | 0/6 [00:00<?, ?it/s]"
      ]
     },
     "metadata": {},
     "output_type": "display_data"
    },
    {
     "data": {
      "application/vnd.jupyter.widget-view+json": {
       "model_id": "0b9069b1ea374bdeb61ddde42f17a7f1",
       "version_major": 2,
       "version_minor": 0
      },
      "text/plain": [
       "Evaluator:   0%|          | 0/6 [00:00<?, ?it/s]"
      ]
     },
     "metadata": {},
     "output_type": "display_data"
    },
    {
     "data": {
      "application/vnd.jupyter.widget-view+json": {
       "model_id": "8ae68f2ad0b046029238fb217b8e4a1b",
       "version_major": 2,
       "version_minor": 0
      },
      "text/plain": [
       "Evaluator:   0%|          | 0/6 [00:00<?, ?it/s]"
      ]
     },
     "metadata": {},
     "output_type": "display_data"
    },
    {
     "data": {
      "application/vnd.jupyter.widget-view+json": {
       "model_id": "8b7961d36049419c871243d1c12f6ea2",
       "version_major": 2,
       "version_minor": 0
      },
      "text/plain": [
       "Evaluator:   0%|          | 0/6 [00:00<?, ?it/s]"
      ]
     },
     "metadata": {},
     "output_type": "display_data"
    },
    {
     "data": {
      "application/vnd.jupyter.widget-view+json": {
       "model_id": "6a3f10a779f44e2bad5491db4da56379",
       "version_major": 2,
       "version_minor": 0
      },
      "text/plain": [
       "Explainer:   0%|          | 0/4 [00:00<?, ?it/s]"
      ]
     },
     "metadata": {},
     "output_type": "display_data"
    },
    {
     "data": {
      "application/vnd.jupyter.widget-view+json": {
       "model_id": "f6fa14c6a6e44cc886c61a802801ee36",
       "version_major": 2,
       "version_minor": 0
      },
      "text/plain": [
       "Evaluator:   0%|          | 0/6 [00:00<?, ?it/s]"
      ]
     },
     "metadata": {},
     "output_type": "display_data"
    },
    {
     "data": {
      "application/vnd.jupyter.widget-view+json": {
       "model_id": "28d0b2ab8f8643f18bc080cad259aca9",
       "version_major": 2,
       "version_minor": 0
      },
      "text/plain": [
       "Evaluator:   0%|          | 0/6 [00:00<?, ?it/s]"
      ]
     },
     "metadata": {},
     "output_type": "display_data"
    },
    {
     "data": {
      "application/vnd.jupyter.widget-view+json": {
       "model_id": "c222263dcfb74ae99544efe09411a4c3",
       "version_major": 2,
       "version_minor": 0
      },
      "text/plain": [
       "Evaluator:   0%|          | 0/6 [00:00<?, ?it/s]"
      ]
     },
     "metadata": {},
     "output_type": "display_data"
    },
    {
     "data": {
      "application/vnd.jupyter.widget-view+json": {
       "model_id": "abf11c77313745f8873e15f0265d5765",
       "version_major": 2,
       "version_minor": 0
      },
      "text/plain": [
       "Evaluator:   0%|          | 0/6 [00:00<?, ?it/s]"
      ]
     },
     "metadata": {},
     "output_type": "display_data"
    }
   ],
   "source": [
    "esnli_with_evaluations = esnli.map(calculate_evaluations)"
   ]
  },
  {
   "cell_type": "code",
   "execution_count": 46,
   "metadata": {},
   "outputs": [],
   "source": [
    "dataset_scores = calculate_dataset_scores(esnli_with_evaluations)"
   ]
  },
  {
   "cell_type": "code",
   "execution_count": 48,
   "metadata": {},
   "outputs": [
    {
     "data": {
      "application/vnd.jupyter.widget-view+json": {
       "model_id": "62808c385fc442f59697b4627a69ce1e",
       "version_major": 2,
       "version_minor": 0
      },
      "text/plain": [
       "Saving the dataset (0/1 shards):   0%|          | 0/30 [00:00<?, ? examples/s]"
      ]
     },
     "metadata": {},
     "output_type": "display_data"
    }
   ],
   "source": [
    "esnli_with_evaluations.save_to_disk(f\"../datasets/esnli_evaluations_hypothesis_only_{seed}.hf\")\n",
    "with open(f\"../datasets/esnli_evaluation_scores_hypothesis_only_{seed}.json\", \"w+\") as f:\n",
    "    f.write(json.dumps(dataset_scores))"
   ]
  }
 ],
 "metadata": {
  "kernelspec": {
   "display_name": "Python 3",
   "language": "python",
   "name": "python3"
  },
  "language_info": {
   "codemirror_mode": {
    "name": "ipython",
    "version": 3
   },
   "file_extension": ".py",
   "mimetype": "text/x-python",
   "name": "python",
   "nbconvert_exporter": "python",
   "pygments_lexer": "ipython3",
   "version": "3.7.4"
  },
  "orig_nbformat": 4
 },
 "nbformat": 4,
 "nbformat_minor": 2
}
