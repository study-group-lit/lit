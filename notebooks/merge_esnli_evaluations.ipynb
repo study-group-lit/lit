{
 "cells": [
  {
   "cell_type": "code",
   "execution_count": 2,
   "metadata": {},
   "outputs": [],
   "source": [
    "from datasets import load_from_disk, concatenate_datasets, Dataset\n",
    "from multiprocessing import cpu_count\n",
    "import pandas as pd"
   ]
  },
  {
   "cell_type": "code",
   "execution_count": 3,
   "metadata": {},
   "outputs": [],
   "source": [
    "esnli_phenomena = load_from_disk(\"../../lit-data/datasets/esnli_phenomena\").to_pandas()\n",
    "esnli_evaluations = load_from_disk(\"../../lit-data/datasets/esnli_evaluations_42/esnli_evaluations_chunk_0\")\n",
    "for i in range(1, 5):\n",
    "    esnli_evaluations_chunk = load_from_disk(f\"../../lit-data/datasets/esnli_evaluations_42/esnli_evaluations_chunk_{i}\")\n",
    "    esnli_evaluations = concatenate_datasets([esnli_evaluations, esnli_evaluations_chunk])\n",
    "esnli_evaluations = esnli_evaluations.to_pandas()"
   ]
  },
  {
   "cell_type": "code",
   "execution_count": 4,
   "metadata": {},
   "outputs": [
    {
     "name": "stdout",
     "output_type": "stream",
     "text": [
      "<class 'pandas.core.frame.DataFrame'>\n",
      "RangeIndex: 9842 entries, 0 to 9841\n",
      "Data columns (total 14 columns):\n",
      " #   Column                   Non-Null Count  Dtype \n",
      "---  ------                   --------------  ----- \n",
      " 0   premise                  9842 non-null   object\n",
      " 1   hypothesis               9842 non-null   object\n",
      " 2   label                    9842 non-null   int64 \n",
      " 3   explanation_1            9842 non-null   object\n",
      " 4   explanation_2            9842 non-null   object\n",
      " 5   explanation_3            9842 non-null   object\n",
      " 6   sentence1_highlighted_1  9842 non-null   object\n",
      " 7   sentence2_highlighted_1  9842 non-null   object\n",
      " 8   sentence1_highlighted_2  9842 non-null   object\n",
      " 9   sentence2_highlighted_2  9842 non-null   object\n",
      " 10  sentence1_highlighted_3  9842 non-null   object\n",
      " 11  sentence2_highlighted_3  9842 non-null   object\n",
      " 12  ferret_explanations      9842 non-null   object\n",
      " 13  evaluations              9842 non-null   object\n",
      "dtypes: int64(1), object(13)\n",
      "memory usage: 1.1+ MB\n",
      "<class 'pandas.core.frame.DataFrame'>\n",
      "RangeIndex: 9842 entries, 0 to 9841\n",
      "Data columns (total 33 columns):\n",
      " #   Column                            Non-Null Count  Dtype \n",
      "---  ------                            --------------  ----- \n",
      " 0   premise                           9842 non-null   object\n",
      " 1   hypothesis                        9842 non-null   object\n",
      " 2   label                             9842 non-null   int64 \n",
      " 3   explanation_1                     9842 non-null   object\n",
      " 4   explanation_2                     9842 non-null   object\n",
      " 5   explanation_3                     9842 non-null   object\n",
      " 6   premise_highlighted_1             9842 non-null   object\n",
      " 7   hypothesis_highlighted_1          9842 non-null   object\n",
      " 8   premise_highlighted_2             9842 non-null   object\n",
      " 9   hypothesis_highlighted_2          9842 non-null   object\n",
      " 10  premise_highlighted_3             9842 non-null   object\n",
      " 11  hypothesis_highlighted_3          9842 non-null   object\n",
      " 12  premise_marked_1                  9842 non-null   object\n",
      " 13  hypothesis_marked_1               9842 non-null   object\n",
      " 14  premise_marked_2                  9842 non-null   object\n",
      " 15  hypothesis_marked_2               9842 non-null   object\n",
      " 16  premise_marked_3                  9842 non-null   object\n",
      " 17  hypothesis_marked_3               9842 non-null   object\n",
      " 18  premise_highlighted_words_1       9842 non-null   object\n",
      " 19  hypothesis_highlighted_words_1    9842 non-null   object\n",
      " 20  premise_highlighted_words_2       9842 non-null   object\n",
      " 21  hypothesis_highlighted_words_2    9842 non-null   object\n",
      " 22  premise_highlighted_words_3       9842 non-null   object\n",
      " 23  hypothesis_highlighted_words_3    9842 non-null   object\n",
      " 24  premise_highlighted_words_all     9842 non-null   object\n",
      " 25  hypothesis_highlighted_words_all  9842 non-null   object\n",
      " 26  synonym                           9842 non-null   int64 \n",
      " 27  antonym                           9842 non-null   int64 \n",
      " 28  hypernym                          9842 non-null   int64 \n",
      " 29  hyponym                           9842 non-null   int64 \n",
      " 30  co_hyponym                        9842 non-null   int64 \n",
      " 31  quantifiers                       9842 non-null   int64 \n",
      " 32  numericals                        9842 non-null   int64 \n",
      "dtypes: int64(8), object(25)\n",
      "memory usage: 2.5+ MB\n"
     ]
    }
   ],
   "source": [
    "esnli_evaluations.info()\n",
    "esnli_phenomena.info()"
   ]
  },
  {
   "cell_type": "code",
   "execution_count": 5,
   "metadata": {},
   "outputs": [
    {
     "name": "stdout",
     "output_type": "stream",
     "text": [
      "Dataset({\n",
      "    features: ['premise', 'hypothesis', 'label', 'explanation_1', 'explanation_2', 'explanation_3', 'sentence1_highlighted_1', 'sentence2_highlighted_1', 'sentence1_highlighted_2', 'sentence2_highlighted_2', 'sentence1_highlighted_3', 'sentence2_highlighted_3', 'ferret_explanations', 'evaluations', 'premise_highlighted_1', 'hypothesis_highlighted_1', 'premise_highlighted_2', 'hypothesis_highlighted_2', 'premise_highlighted_3', 'hypothesis_highlighted_3', 'premise_marked_1', 'hypothesis_marked_1', 'premise_marked_2', 'hypothesis_marked_2', 'premise_marked_3', 'hypothesis_marked_3', 'premise_highlighted_words_1', 'hypothesis_highlighted_words_1', 'premise_highlighted_words_2', 'hypothesis_highlighted_words_2', 'premise_highlighted_words_3', 'hypothesis_highlighted_words_3', 'premise_highlighted_words_all', 'hypothesis_highlighted_words_all', 'synonym', 'antonym', 'hypernym', 'hyponym', 'co_hyponym', 'quantifiers', 'numericals', '__index_level_0__'],\n",
      "    num_rows: 9846\n",
      "})\n"
     ]
    }
   ],
   "source": [
    "def merge(record):\n",
    "    candidate_partners = esnli_evaluations.filter(lambda r: r[\"premise\"] == record[\"premise\"] and r[\"hypothesis\"] == record[\"hypothesis\"])\n",
    "    if candidate_partners.num_rows > 1:\n",
    "        print(f\"Warning: Duplicate premise hypothesis pair for record: {record}\")\n",
    "    if candidate_partners.num_rows == 0:\n",
    "        raise RuntimeError(f\"Missing premise hypothesis pair for record: {record}\")\n",
    "    return {**record, **candidate_partners[0]}\n",
    "\n",
    "esnli_evaluations_phenomena_pd = pd.merge(esnli_evaluations, esnli_phenomena, on=[\"premise\", \"hypothesis\"], suffixes=('', '_DROP')).filter(regex='^(?!.*_DROP)')\n",
    "esnli_evaluations_phenomena = Dataset.from_pandas(esnli_evaluations_phenomena_pd)\n",
    "print(esnli_evaluations_phenomena)"
   ]
  },
  {
   "cell_type": "code",
   "execution_count": 6,
   "metadata": {},
   "outputs": [
    {
     "data": {
      "application/vnd.jupyter.widget-view+json": {
       "model_id": "5e4a2ec609994541a7eaae23115dd17e",
       "version_major": 2,
       "version_minor": 0
      },
      "text/plain": [
       "Saving the dataset (0/1 shards):   0%|          | 0/9846 [00:00<?, ? examples/s]"
      ]
     },
     "metadata": {},
     "output_type": "display_data"
    }
   ],
   "source": [
    "esnli_evaluations_phenomena.save_to_disk(\"../../lit-data/datasets/esnli_evaluations_42_phenomena\")"
   ]
  }
 ],
 "metadata": {
  "kernelspec": {
   "display_name": "lit",
   "language": "python",
   "name": "lit"
  },
  "language_info": {
   "codemirror_mode": {
    "name": "ipython",
    "version": 3
   },
   "file_extension": ".py",
   "mimetype": "text/x-python",
   "name": "python",
   "nbconvert_exporter": "python",
   "pygments_lexer": "ipython3",
   "version": "3.9.6"
  },
  "orig_nbformat": 4
 },
 "nbformat": 4,
 "nbformat_minor": 2
}
